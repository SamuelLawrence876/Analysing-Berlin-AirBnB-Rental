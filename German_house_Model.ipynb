{
  "nbformat": 4,
  "nbformat_minor": 0,
  "metadata": {
    "colab": {
      "name": "German house Kaggle.ipynb",
      "provenance": [],
      "toc_visible": true,
      "authorship_tag": "ABX9TyOjZjxQ/EeYJ3McXJRyUrbf",
      "include_colab_link": true
    },
    "kernelspec": {
      "name": "python3",
      "display_name": "Python 3"
    }
  },
  "cells": [
    {
      "cell_type": "markdown",
      "metadata": {
        "id": "view-in-github",
        "colab_type": "text"
      },
      "source": [
        "<a href=\"https://colab.research.google.com/github/SamuelLawrence876/Analysing-Berling-AirBnB-Rental/blob/master/German_house_Model.ipynb\" target=\"_parent\"><img src=\"https://colab.research.google.com/assets/colab-badge.svg\" alt=\"Open In Colab\"/></a>"
      ]
    },
    {
      "cell_type": "code",
      "metadata": {
        "id": "l7GUSKXDwKj1",
        "colab_type": "code",
        "colab": {
          "base_uri": "https://localhost:8080/",
          "height": 51
        },
        "outputId": "55f31da5-73f5-4baf-ca6b-a02ec1005968"
      },
      "source": [
        "import os \n",
        "import pandas as pd\n",
        "import numpy as np\n",
        "import matplotlib.pyplot as plt\n",
        "import seaborn as sns\n",
        "import datetime \n",
        "#WordCounting\n",
        "from wordcloud import WordCloud, ImageColorGenerator, STOPWORDS\n",
        "from nltk.corpus import stopwords\n",
        "from nltk.tokenize import word_tokenize\n",
        "#warnings\n",
        "import warnings\n",
        "warnings.filterwarnings(\"ignore\")"
      ],
      "execution_count": 1,
      "outputs": [
        {
          "output_type": "stream",
          "text": [
            "/usr/local/lib/python3.6/dist-packages/statsmodels/tools/_testing.py:19: FutureWarning: pandas.util.testing is deprecated. Use the functions in the public API at pandas.testing instead.\n",
            "  import pandas.util.testing as tm\n"
          ],
          "name": "stderr"
        }
      ]
    },
    {
      "cell_type": "code",
      "metadata": {
        "id": "WEA9y1brBbvj",
        "colab_type": "code",
        "colab": {}
      },
      "source": [
        "plt.rcParams['figure.figsize'] = (8.0, 6.0)\n",
        "plt.rc('font', size=16)"
      ],
      "execution_count": 277,
      "outputs": []
    },
    {
      "cell_type": "code",
      "metadata": {
        "id": "k88wya-y2MzA",
        "colab_type": "code",
        "colab": {}
      },
      "source": [
        "!cd ~/.kaggle\n",
        "!touch ~/.kaggle/kaggle.json\n",
        "\n",
        "api_token = {\"username\":\"samuellawrence\",\"key\":\"fdc2a7c542b86eef6eb0fe05cb0aec1a\"}\n",
        "\n",
        "import json\n",
        "\n",
        "with open('/root/.kaggle/kaggle.json', 'w') as file:\n",
        "    json.dump(api_token, file)\n",
        "\n",
        "!chmod 600 ~/.kaggle/kaggle.json"
      ],
      "execution_count": 8,
      "outputs": []
    },
    {
      "cell_type": "code",
      "metadata": {
        "id": "l43ub-Ej2M1l",
        "colab_type": "code",
        "colab": {
          "base_uri": "https://localhost:8080/",
          "height": 68
        },
        "outputId": "ca5b6ad9-b5ff-4bc2-e3c1-e9615710f0d2"
      },
      "source": [
        "!kaggle datasets download -d brittabettendorf/berlin-airbnb-data"
      ],
      "execution_count": 9,
      "outputs": [
        {
          "output_type": "stream",
          "text": [
            "Downloading berlin-airbnb-data.zip to /content\n",
            " 95% 83.0M/87.7M [00:01<00:00, 59.2MB/s]\n",
            "100% 87.7M/87.7M [00:01<00:00, 64.7MB/s]\n"
          ],
          "name": "stdout"
        }
      ]
    },
    {
      "cell_type": "code",
      "metadata": {
        "id": "5ZlFb7MR4WpJ",
        "colab_type": "code",
        "colab": {}
      },
      "source": [
        "import zipfile\n",
        "\n",
        "zf = zipfile.ZipFile('berlin-airbnb-data.zip') \n",
        "df_calender_summary = pd.read_csv(zf.open('calendar_summary.csv'))\n",
        "df_listings = pd.read_csv(zf.open('listings.csv'))\n",
        "df_listings_summary = pd.read_csv(zf.open('listings_summary.csv'))\n",
        "df_neighbourhoods = pd.read_csv(zf.open('neighbourhoods.csv'))\n",
        "df_reviews1 = pd.read_csv(zf.open('reviews.csv'))\n",
        "df_reviews_summary = pd.read_csv(zf.open('reviews_summary.csv'))"
      ],
      "execution_count": 10,
      "outputs": []
    },
    {
      "cell_type": "code",
      "metadata": {
        "id": "nto3qIqG1gd7",
        "colab_type": "code",
        "colab": {}
      },
      "source": [
        "#df = pd.concat([df_listings, df_listings_summary, df_neighbourhoods, df_cal_summary], axis=1)\n",
        "df_reviews = pd.concat([df_reviews1, df_reviews_summary], axis=1)"
      ],
      "execution_count": 11,
      "outputs": []
    },
    {
      "cell_type": "code",
      "metadata": {
        "id": "Zjl0nsbX877B",
        "colab_type": "code",
        "colab": {}
      },
      "source": [
        "df_calender_summary.shape"
      ],
      "execution_count": null,
      "outputs": []
    },
    {
      "cell_type": "code",
      "metadata": {
        "id": "eZoGLUlk8796",
        "colab_type": "code",
        "colab": {}
      },
      "source": [
        "df_listings.shape"
      ],
      "execution_count": null,
      "outputs": []
    },
    {
      "cell_type": "code",
      "metadata": {
        "id": "dQrzxqee88BF",
        "colab_type": "code",
        "colab": {}
      },
      "source": [
        "df_listings_summary.shape"
      ],
      "execution_count": null,
      "outputs": []
    },
    {
      "cell_type": "code",
      "metadata": {
        "id": "hSuv66dk88Eb",
        "colab_type": "code",
        "colab": {}
      },
      "source": [
        "df_neighbourhoods.shape"
      ],
      "execution_count": null,
      "outputs": []
    },
    {
      "cell_type": "code",
      "metadata": {
        "id": "UinBStZM88H1",
        "colab_type": "code",
        "colab": {}
      },
      "source": [
        "df_reviews.shape"
      ],
      "execution_count": null,
      "outputs": []
    },
    {
      "cell_type": "code",
      "metadata": {
        "id": "nCEKtM-j8eu-",
        "colab_type": "code",
        "colab": {}
      },
      "source": [
        "df_listings.tail()"
      ],
      "execution_count": null,
      "outputs": []
    },
    {
      "cell_type": "code",
      "metadata": {
        "id": "j6Hlu-xu1gjO",
        "colab_type": "code",
        "colab": {}
      },
      "source": [
        "df_listings_summary.columns"
      ],
      "execution_count": null,
      "outputs": []
    },
    {
      "cell_type": "code",
      "metadata": {
        "id": "ZDIBbnFHVWaO",
        "colab_type": "code",
        "colab": {
          "base_uri": "https://localhost:8080/",
          "height": 119
        },
        "outputId": "89f7c1e3-2339-40aa-f7d9-9bcf6933d456"
      },
      "source": [
        "df_listings_summary['room_type'].head()"
      ],
      "execution_count": 72,
      "outputs": [
        {
          "output_type": "execute_result",
          "data": {
            "text/plain": [
              "0    Entire home/apt\n",
              "1       Private room\n",
              "2    Entire home/apt\n",
              "3       Private room\n",
              "4       Private room\n",
              "Name: room_type, dtype: object"
            ]
          },
          "metadata": {
            "tags": []
          },
          "execution_count": 72
        }
      ]
    },
    {
      "cell_type": "code",
      "metadata": {
        "id": "t7NK1AZcfFcu",
        "colab_type": "code",
        "colab": {
          "base_uri": "https://localhost:8080/",
          "height": 1000
        },
        "outputId": "c192aee2-ebae-4a58-b0a2-78be48b84c96"
      },
      "source": [
        "for i in df_listings_summary.columns:\n",
        "    print(\"Column name {} and unique values are {}\".format(i,len(df_listings_summary[i].unique())))"
      ],
      "execution_count": 167,
      "outputs": [
        {
          "output_type": "stream",
          "text": [
            "Column name id and unique values are 22552\n",
            "Column name listing_url and unique values are 22552\n",
            "Column name scrape_id and unique values are 1\n",
            "Column name last_scraped and unique values are 2\n",
            "Column name name and unique values are 21874\n",
            "Column name summary and unique values are 21042\n",
            "Column name space and unique values are 13599\n",
            "Column name description and unique values are 21998\n",
            "Column name experiences_offered and unique values are 1\n",
            "Column name neighborhood_overview and unique values are 10782\n",
            "Column name notes and unique values are 6688\n",
            "Column name transit and unique values are 12309\n",
            "Column name access and unique values are 9947\n",
            "Column name interaction and unique values are 9585\n",
            "Column name house_rules and unique values are 10351\n",
            "Column name thumbnail_url and unique values are 1\n",
            "Column name medium_url and unique values are 1\n",
            "Column name picture_url and unique values are 22465\n",
            "Column name xl_picture_url and unique values are 1\n",
            "Column name host_id and unique values are 19180\n",
            "Column name host_url and unique values are 19180\n",
            "Column name host_name and unique values are 5998\n",
            "Column name host_since and unique values are 2915\n",
            "Column name host_location and unique values are 1037\n",
            "Column name host_about and unique values are 8880\n",
            "Column name host_response_time and unique values are 5\n",
            "Column name host_response_rate and unique values are 65\n",
            "Column name host_acceptance_rate and unique values are 1\n",
            "Column name host_is_superhost and unique values are 3\n",
            "Column name host_thumbnail_url and unique values are 19101\n",
            "Column name host_picture_url and unique values are 19101\n",
            "Column name host_neighbourhood and unique values are 182\n",
            "Column name host_listings_count and unique values are 32\n",
            "Column name host_total_listings_count and unique values are 32\n",
            "Column name host_verifications and unique values are 301\n",
            "Column name host_has_profile_pic and unique values are 3\n",
            "Column name host_identity_verified and unique values are 3\n",
            "Column name street and unique values are 86\n",
            "Column name neighbourhood and unique values are 92\n",
            "Column name neighbourhood_cleansed and unique values are 136\n",
            "Column name neighbourhood_group_cleansed and unique values are 12\n",
            "Column name city and unique values are 61\n",
            "Column name state and unique values are 20\n",
            "Column name zipcode and unique values are 216\n",
            "Column name market and unique values are 7\n",
            "Column name smart_location and unique values are 61\n",
            "Column name country_code and unique values are 1\n",
            "Column name country and unique values are 1\n",
            "Column name latitude and unique values are 22552\n",
            "Column name longitude and unique values are 22552\n",
            "Column name is_location_exact and unique values are 2\n",
            "Column name property_type and unique values are 33\n",
            "Column name room_type and unique values are 3\n",
            "Column name accommodates and unique values are 16\n",
            "Column name bathrooms and unique values are 17\n",
            "Column name bedrooms and unique values are 13\n",
            "Column name beds and unique values are 19\n",
            "Column name bed_type and unique values are 5\n",
            "Column name amenities and unique values are 19985\n",
            "Column name square_feet and unique values are 112\n",
            "Column name price and unique values are 295\n",
            "Column name weekly_price and unique values are 388\n",
            "Column name monthly_price and unique values are 427\n",
            "Column name security_deposit and unique values are 143\n",
            "Column name cleaning_fee and unique values are 113\n",
            "Column name guests_included and unique values are 15\n",
            "Column name extra_people and unique values are 65\n",
            "Column name minimum_nights and unique values are 102\n",
            "Column name maximum_nights and unique values are 222\n",
            "Column name calendar_updated and unique values are 75\n",
            "Column name has_availability and unique values are 1\n",
            "Column name availability_30 and unique values are 31\n",
            "Column name availability_60 and unique values are 61\n",
            "Column name availability_90 and unique values are 91\n",
            "Column name availability_365 and unique values are 366\n",
            "Column name calendar_last_scraped and unique values are 2\n",
            "Column name number_of_reviews and unique values are 306\n",
            "Column name first_review and unique values are 2229\n",
            "Column name last_review and unique values are 1313\n",
            "Column name review_scores_rating and unique values are 47\n",
            "Column name review_scores_accuracy and unique values are 10\n",
            "Column name review_scores_cleanliness and unique values are 10\n",
            "Column name review_scores_checkin and unique values are 9\n",
            "Column name review_scores_communication and unique values are 10\n",
            "Column name review_scores_location and unique values are 9\n",
            "Column name review_scores_value and unique values are 10\n",
            "Column name requires_license and unique values are 2\n",
            "Column name license and unique values are 1388\n",
            "Column name jurisdiction_names and unique values are 1\n",
            "Column name instant_bookable and unique values are 2\n",
            "Column name is_business_travel_ready and unique values are 1\n",
            "Column name cancellation_policy and unique values are 5\n",
            "Column name require_guest_profile_picture and unique values are 2\n",
            "Column name require_guest_phone_verification and unique values are 2\n",
            "Column name calculated_host_listings_count and unique values are 23\n",
            "Column name reviews_per_month and unique values are 769\n"
          ],
          "name": "stdout"
        }
      ]
    },
    {
      "cell_type": "code",
      "metadata": {
        "id": "nuqFQlAjeK2C",
        "colab_type": "code",
        "colab": {}
      },
      "source": [
        "df2 = df_listings_summary[['minimum_nights','street','maximum_nights','cleaning_fee','property_type','extra_people','zipcode',\n",
        "                          'room_type','bed_type','review_scores_value', 'instant_bookable','host_has_profile_pic', 'requires_license','price']]"
      ],
      "execution_count": 179,
      "outputs": []
    },
    {
      "cell_type": "code",
      "metadata": {
        "id": "TzpeKQ9zgKZW",
        "colab_type": "code",
        "colab": {}
      },
      "source": [
        "catagorical_features = df_listings_summary[['room_type','bed_type','review_scores_value', 'instant_bookable','host_has_profile_pic', 'requires_license','price']]"
      ],
      "execution_count": 120,
      "outputs": []
    },
    {
      "cell_type": "code",
      "metadata": {
        "id": "YNgsIKsOlU3z",
        "colab_type": "code",
        "colab": {}
      },
      "source": [
        "df = df_listings_summary[['minimum_nights','street','maximum_nights','cleaning_fee','property_type','extra_people','zipcode']]"
      ],
      "execution_count": 177,
      "outputs": []
    },
    {
      "cell_type": "code",
      "metadata": {
        "id": "VI-QywChjp6j",
        "colab_type": "code",
        "colab": {}
      },
      "source": [
        "for Categorical_Values in catagorical_features.columns:\n",
        "    cat_num = catagorical_features[Categorical_Values].value_counts()\n",
        "    print('graph for %s: total = %d' % (Categorical_Values, len(cat_num)))\n",
        "    chart = sns.barplot(x=cat_num.index, y=cat_num)\n",
        "    chart.set_xticklabels(chart.get_xticklabels(), rotation=90)\n",
        "    plt.show()"
      ],
      "execution_count": null,
      "outputs": []
    },
    {
      "cell_type": "markdown",
      "metadata": {
        "id": "8ccK0pKckfok",
        "colab_type": "text"
      },
      "source": [
        "## Based on our analysis we can conclude that:\n",
        "\n",
        "\n",
        "*   Apparments are the predominant property type \n",
        "*   Supper hosts make up the minority of property renters\n",
        "*   Mosts review range from 8 stars to 10\n",
        "*   Most propertys are not instant bookable\n",
        "*   Most people have just listen 1 house while some own 2 and 3 \n",
        "*   Most listed propertys are not instant bookable\n",
        "*   1 bedroom houses were among the most common \n",
        "\n"
      ]
    },
    {
      "cell_type": "code",
      "metadata": {
        "id": "LJ1L1KcRkeJR",
        "colab_type": "code",
        "colab": {}
      },
      "source": [
        ""
      ],
      "execution_count": null,
      "outputs": []
    },
    {
      "cell_type": "code",
      "metadata": {
        "id": "C9_5E1_ohVvQ",
        "colab_type": "code",
        "colab": {}
      },
      "source": [
        "z, ax = plt.subplots(figsize=(20, 11))\n",
        "sns.heatmap(catagorical_features.corr(), center=0,\n",
        "            square=True, cmap=\"twilight\", linewidths=1, cbar_kws={\"shrink\": 1})"
      ],
      "execution_count": null,
      "outputs": []
    },
    {
      "cell_type": "code",
      "metadata": {
        "id": "7j4vxBRYrCJY",
        "colab_type": "code",
        "colab": {
          "base_uri": "https://localhost:8080/",
          "height": 80
        },
        "outputId": "b0e717fb-1cf8-4f13-8d5a-56535e053ee8"
      },
      "source": [
        "catagorical_features.head(1)"
      ],
      "execution_count": 115,
      "outputs": [
        {
          "output_type": "execute_result",
          "data": {
            "text/html": [
              "<div>\n",
              "<style scoped>\n",
              "    .dataframe tbody tr th:only-of-type {\n",
              "        vertical-align: middle;\n",
              "    }\n",
              "\n",
              "    .dataframe tbody tr th {\n",
              "        vertical-align: top;\n",
              "    }\n",
              "\n",
              "    .dataframe thead th {\n",
              "        text-align: right;\n",
              "    }\n",
              "</style>\n",
              "<table border=\"1\" class=\"dataframe\">\n",
              "  <thead>\n",
              "    <tr style=\"text-align: right;\">\n",
              "      <th></th>\n",
              "      <th>room_type</th>\n",
              "      <th>bed_type</th>\n",
              "      <th>review_scores_value</th>\n",
              "      <th>instant_bookable</th>\n",
              "      <th>host_has_profile_pic</th>\n",
              "      <th>requires_license</th>\n",
              "      <th>price</th>\n",
              "    </tr>\n",
              "  </thead>\n",
              "  <tbody>\n",
              "    <tr>\n",
              "      <th>0</th>\n",
              "      <td>Entire home/apt</td>\n",
              "      <td>Real Bed</td>\n",
              "      <td>9.0</td>\n",
              "      <td>f</td>\n",
              "      <td>t</td>\n",
              "      <td>t</td>\n",
              "      <td>$60.00</td>\n",
              "    </tr>\n",
              "  </tbody>\n",
              "</table>\n",
              "</div>"
            ],
            "text/plain": [
              "         room_type  bed_type  ...  requires_license   price\n",
              "0  Entire home/apt  Real Bed  ...                 t  $60.00\n",
              "\n",
              "[1 rows x 7 columns]"
            ]
          },
          "metadata": {
            "tags": []
          },
          "execution_count": 115
        }
      ]
    },
    {
      "cell_type": "code",
      "metadata": {
        "id": "fXSWthpVwj3w",
        "colab_type": "code",
        "colab": {}
      },
      "source": [
        "catagorical_features['price'] = catagorical_features['price'].apply(lambda x: float(x.replace(',','').replace('$',''))) #Removing symbolls #Removing symbolls "
      ],
      "execution_count": 121,
      "outputs": []
    },
    {
      "cell_type": "code",
      "metadata": {
        "id": "EWuuPmZxXcam",
        "colab_type": "code",
        "colab": {}
      },
      "source": [
        "catagorical_features['room_type'] = catagorical_features['room_type'].apply(lambda x: (x.replace('Entire home/apt','1').replace('Private room','2').replace('Shared room','3')))\n",
        "catagorical_features['room_type'] = catagorical_features['room_type'].astype(int)"
      ],
      "execution_count": null,
      "outputs": []
    },
    {
      "cell_type": "code",
      "metadata": {
        "id": "E7usJmrCYCQb",
        "colab_type": "code",
        "colab": {}
      },
      "source": [
        "catagorical_features['bed_type'] = catagorical_features['bed_type'].apply(lambda x: (x.replace('Real Bed','1').replace('Pull-out Sofa','2').replace('Futon','3')).replace('Airbed','4'))\n",
        "catagorical_features['bed_type'] = catagorical_features['room_type'].astype(int)"
      ],
      "execution_count": 123,
      "outputs": []
    },
    {
      "cell_type": "code",
      "metadata": {
        "id": "fKTJ82K3nVn3",
        "colab_type": "code",
        "colab": {}
      },
      "source": [
        "catagorical_features['instant_bookable'] = catagorical_features.host_has_profile_pic.map(dict(t=1, f=0))\n",
        "catagorical_features['host_has_profile_pic'] = catagorical_features.host_has_profile_pic.map(dict(t=1, f=0))\n",
        "catagorical_features['requires_license'] = catagorical_features.requires_license.map(dict(t=1, f=0))"
      ],
      "execution_count": 124,
      "outputs": []
    },
    {
      "cell_type": "code",
      "metadata": {
        "id": "AAArj8H6btLo",
        "colab_type": "code",
        "colab": {}
      },
      "source": [
        "from sklearn.preprocessing import LabelEncoder, OneHotEncoder"
      ],
      "execution_count": 165,
      "outputs": []
    },
    {
      "cell_type": "code",
      "metadata": {
        "id": "JG9JnFXRmTaD",
        "colab_type": "code",
        "colab": {}
      },
      "source": [
        "cat_features=[x for x in df.columns if df[x].dtype==\"object\"]\n",
        "\n",
        "le=LabelEncoder()\n",
        "\n",
        "for col in cat_features:\n",
        "    if col in df.columns:\n",
        "        i = df.columns.get_loc(col)\n",
        "        df.iloc[:,i] = df.apply(lambda i:le.fit_transform(i.astype(str)), axis=0, result_type='expand')"
      ],
      "execution_count": 171,
      "outputs": []
    },
    {
      "cell_type": "code",
      "metadata": {
        "id": "3wQdFd4G1hCT",
        "colab_type": "code",
        "colab": {}
      },
      "source": [
        "#lbl_encoders={}\n",
        "#for feature in df:\n",
        "#  lbl_encoders[feature]=LabelEncoder()\n",
        "#  df[feature] = lbl_encoders[feature].fit_transform(df[feature])"
      ],
      "execution_count": 172,
      "outputs": []
    },
    {
      "cell_type": "code",
      "metadata": {
        "id": "8wa-b4xEsIKD",
        "colab_type": "code",
        "colab": {}
      },
      "source": [
        "cat_features = np.stack([catagorical_features['room_type'], catagorical_features['bed_type'],catagorical_features['review_scores_value'],\n",
        "                          catagorical_features['instant_bookable'],catagorical_features['host_has_profile_pic'],catagorical_features['requires_license']],1)"
      ],
      "execution_count": 173,
      "outputs": []
    },
    {
      "cell_type": "code",
      "metadata": {
        "id": "LHW-kWDLsIRi",
        "colab_type": "code",
        "colab": {
          "base_uri": "https://localhost:8080/",
          "height": 136
        },
        "outputId": "baaf4966-df3e-404d-9cae-37da07437fc9"
      },
      "source": [
        "import torch\n",
        "cat_features=torch.tensor(cat_features,dtype=torch.int64)\n",
        "cat_features"
      ],
      "execution_count": 174,
      "outputs": [
        {
          "output_type": "execute_result",
          "data": {
            "text/plain": [
              "tensor([[   0,    0,    7,    1,    1,    1],\n",
              "        [   1,    1,    8,    1,    1,    1],\n",
              "        [   0,    0,    7,    1,    1,    1],\n",
              "        ...,\n",
              "        [   0,    0,  134,    1,    1,    1],\n",
              "        [   1,    1, 1649,    1,    1,    1],\n",
              "        [   1,    1, 4443,    1,    1,    1]])"
            ]
          },
          "metadata": {
            "tags": []
          },
          "execution_count": 174
        }
      ]
    },
    {
      "cell_type": "code",
      "metadata": {
        "id": "GLwjz_YwsINw",
        "colab_type": "code",
        "colab": {}
      },
      "source": [
        "cont_features=[]\n",
        "for i in df2.columns:\n",
        "    if i in ['minimum_nights','street','maximum_nights','cleaning_fee','property_type','extra_people','zipcode']:\n",
        "        pass\n",
        "    else:\n",
        "        cont_features.append(i)"
      ],
      "execution_count": 180,
      "outputs": []
    },
    {
      "cell_type": "code",
      "metadata": {
        "id": "Hy9EBaCDbG2q",
        "colab_type": "code",
        "colab": {
          "base_uri": "https://localhost:8080/",
          "height": 136
        },
        "outputId": "47df6f74-423a-4b1e-d9c4-cae1c4a6e3d8"
      },
      "source": [
        "\n",
        "cont_features"
      ],
      "execution_count": 182,
      "outputs": [
        {
          "output_type": "execute_result",
          "data": {
            "text/plain": [
              "['room_type',\n",
              " 'bed_type',\n",
              " 'review_scores_value',\n",
              " 'instant_bookable',\n",
              " 'host_has_profile_pic',\n",
              " 'requires_license',\n",
              " 'price']"
            ]
          },
          "metadata": {
            "tags": []
          },
          "execution_count": 182
        }
      ]
    },
    {
      "cell_type": "code",
      "metadata": {
        "id": "YweXvc_csIH8",
        "colab_type": "code",
        "colab": {
          "base_uri": "https://localhost:8080/",
          "height": 238
        },
        "outputId": "f9ce4ee9-1258-4743-c80a-db115e5b57a3"
      },
      "source": [
        "cont_values=np.stack([catagorical_features[i].values for i in cont_features],axis=1)\n",
        "cont_values=torch.tensor(cont_values,dtype=torch.float)\n",
        "cont_values"
      ],
      "execution_count": 183,
      "outputs": [
        {
          "output_type": "execute_result",
          "data": {
            "text/plain": [
              "tensor([[0.0000e+00, 0.0000e+00, 7.0000e+00,  ..., 1.0000e+00, 1.0000e+00,\n",
              "         5.4000e+01],\n",
              "        [1.0000e+00, 1.0000e+00, 8.0000e+00,  ..., 1.0000e+00, 1.0000e+00,\n",
              "         1.1000e+01],\n",
              "        [0.0000e+00, 0.0000e+00, 7.0000e+00,  ..., 1.0000e+00, 1.0000e+00,\n",
              "         8.4000e+01],\n",
              "        ...,\n",
              "        [0.0000e+00, 0.0000e+00, 1.3400e+02,  ..., 1.0000e+00, 1.0000e+00,\n",
              "         7.9000e+01],\n",
              "        [1.0000e+00, 1.0000e+00, 1.6490e+03,  ..., 1.0000e+00, 1.0000e+00,\n",
              "         9.3000e+01],\n",
              "        [1.0000e+00, 1.0000e+00, 4.4430e+03,  ..., 1.0000e+00, 1.0000e+00,\n",
              "         3.9000e+01]])"
            ]
          },
          "metadata": {
            "tags": []
          },
          "execution_count": 183
        }
      ]
    },
    {
      "cell_type": "code",
      "metadata": {
        "id": "cS-Z2UqrsIFb",
        "colab_type": "code",
        "colab": {
          "base_uri": "https://localhost:8080/",
          "height": 136
        },
        "outputId": "cd4c8aac-ef69-4d59-e44d-a318405c85cc"
      },
      "source": [
        "y=torch.tensor(catagorical_features['price'].values,dtype=torch.float).reshape(-1,1)\n",
        "y"
      ],
      "execution_count": 184,
      "outputs": [
        {
          "output_type": "execute_result",
          "data": {
            "text/plain": [
              "tensor([[54.],\n",
              "        [11.],\n",
              "        [84.],\n",
              "        ...,\n",
              "        [79.],\n",
              "        [93.],\n",
              "        [39.]])"
            ]
          },
          "metadata": {
            "tags": []
          },
          "execution_count": 184
        }
      ]
    },
    {
      "cell_type": "code",
      "metadata": {
        "id": "WJM2-VUFQhfH",
        "colab_type": "code",
        "colab": {
          "base_uri": "https://localhost:8080/",
          "height": 34
        },
        "outputId": "ac9c0db8-8ec8-4a66-982f-affdde0a1868"
      },
      "source": [
        "catagorical_features.shape"
      ],
      "execution_count": 185,
      "outputs": [
        {
          "output_type": "execute_result",
          "data": {
            "text/plain": [
              "(22552, 7)"
            ]
          },
          "metadata": {
            "tags": []
          },
          "execution_count": 185
        }
      ]
    },
    {
      "cell_type": "code",
      "metadata": {
        "id": "iqTZqCE3sIDE",
        "colab_type": "code",
        "colab": {
          "base_uri": "https://localhost:8080/",
          "height": 34
        },
        "outputId": "e18ee98a-0f01-4b2e-80ac-ed7777125fd4"
      },
      "source": [
        "cat_features.shape,cont_values.shape,y.shape"
      ],
      "execution_count": 186,
      "outputs": [
        {
          "output_type": "execute_result",
          "data": {
            "text/plain": [
              "(torch.Size([22552, 6]), torch.Size([22552, 7]), torch.Size([22552, 1]))"
            ]
          },
          "metadata": {
            "tags": []
          },
          "execution_count": 186
        }
      ]
    },
    {
      "cell_type": "code",
      "metadata": {
        "id": "lr67IirnsIA1",
        "colab_type": "code",
        "colab": {}
      },
      "source": [
        "cat_dims = [len(catagorical_features[col].unique()) for col in ['room_type','bed_type','review_scores_value', 'instant_bookable','host_has_profile_pic', 'requires_license']]"
      ],
      "execution_count": 200,
      "outputs": []
    },
    {
      "cell_type": "code",
      "metadata": {
        "id": "EVmlKbCssH-m",
        "colab_type": "code",
        "colab": {
          "base_uri": "https://localhost:8080/",
          "height": 34
        },
        "outputId": "54d1edb3-9621-437f-c361-6a85c0c1403c"
      },
      "source": [
        "cat_dims"
      ],
      "execution_count": 201,
      "outputs": [
        {
          "output_type": "execute_result",
          "data": {
            "text/plain": [
              "[3, 3, 4444, 28, 28, 2]"
            ]
          },
          "metadata": {
            "tags": []
          },
          "execution_count": 201
        }
      ]
    },
    {
      "cell_type": "code",
      "metadata": {
        "id": "M54kR3M4sH73",
        "colab_type": "code",
        "colab": {}
      },
      "source": [
        "embedding_dim = [(x, min(50, (x + 1) // 2)) for x in cat_dims]"
      ],
      "execution_count": 202,
      "outputs": []
    },
    {
      "cell_type": "code",
      "metadata": {
        "id": "wQmoNKKlsH5L",
        "colab_type": "code",
        "colab": {
          "base_uri": "https://localhost:8080/",
          "height": 34
        },
        "outputId": "e11dfc18-aa48-491b-fc89-e54d4c7ccdc7"
      },
      "source": [
        "embedding_dim"
      ],
      "execution_count": 203,
      "outputs": [
        {
          "output_type": "execute_result",
          "data": {
            "text/plain": [
              "[(3, 2), (3, 2), (4444, 50), (28, 14), (28, 14), (2, 1)]"
            ]
          },
          "metadata": {
            "tags": []
          },
          "execution_count": 203
        }
      ]
    },
    {
      "cell_type": "code",
      "metadata": {
        "id": "CvqHmMO5sH2-",
        "colab_type": "code",
        "colab": {}
      },
      "source": [
        "import torch\n",
        "import torch.nn as nn\n",
        "import torch.nn.functional as F"
      ],
      "execution_count": 204,
      "outputs": []
    },
    {
      "cell_type": "code",
      "metadata": {
        "id": "nJesYvom1qg5",
        "colab_type": "code",
        "colab": {
          "base_uri": "https://localhost:8080/",
          "height": 153
        },
        "outputId": "9f982fd2-f767-4392-a97f-29f9e5fecd74"
      },
      "source": [
        "embed_representation=nn.ModuleList([nn.Embedding(inp,out) for inp,out in embedding_dim])\n",
        "embed_representation"
      ],
      "execution_count": 205,
      "outputs": [
        {
          "output_type": "execute_result",
          "data": {
            "text/plain": [
              "ModuleList(\n",
              "  (0): Embedding(3, 2)\n",
              "  (1): Embedding(3, 2)\n",
              "  (2): Embedding(4444, 50)\n",
              "  (3): Embedding(28, 14)\n",
              "  (4): Embedding(28, 14)\n",
              "  (5): Embedding(2, 1)\n",
              ")"
            ]
          },
          "metadata": {
            "tags": []
          },
          "execution_count": 205
        }
      ]
    },
    {
      "cell_type": "code",
      "metadata": {
        "id": "CMmunxLO5fPK",
        "colab_type": "code",
        "colab": {
          "base_uri": "https://localhost:8080/",
          "height": 119
        },
        "outputId": "4dfdef0c-568f-4f72-a36b-00734e5d1f50"
      },
      "source": [
        "cat_featuresz=cat_features[:6]\n",
        "cat_featuresz"
      ],
      "execution_count": 206,
      "outputs": [
        {
          "output_type": "execute_result",
          "data": {
            "text/plain": [
              "tensor([[0, 0, 7, 1, 1, 1],\n",
              "        [1, 1, 8, 1, 1, 1],\n",
              "        [0, 0, 7, 1, 1, 1],\n",
              "        [1, 1, 7, 1, 1, 1],\n",
              "        [1, 1, 7, 1, 1, 1],\n",
              "        [0, 0, 8, 1, 1, 1]])"
            ]
          },
          "metadata": {
            "tags": []
          },
          "execution_count": 206
        }
      ]
    },
    {
      "cell_type": "code",
      "metadata": {
        "id": "X361sFyO1qu_",
        "colab_type": "code",
        "colab": {}
      },
      "source": [
        "pd.set_option('display.max_rows', 500)\n",
        "embedding_val=[]\n",
        "for i,e in enumerate(embed_representation):\n",
        "    embedding_val.append(e(cat_features[:,i]))"
      ],
      "execution_count": 207,
      "outputs": []
    },
    {
      "cell_type": "code",
      "metadata": {
        "id": "akSAYLq11qpi",
        "colab_type": "code",
        "colab": {}
      },
      "source": [
        "embedding_val"
      ],
      "execution_count": null,
      "outputs": []
    },
    {
      "cell_type": "code",
      "metadata": {
        "id": "cZ-jEt_Z1qdD",
        "colab_type": "code",
        "colab": {
          "base_uri": "https://localhost:8080/",
          "height": 153
        },
        "outputId": "bff0fa4d-4885-4e32-e90e-a66e3fd730d4"
      },
      "source": [
        "z = torch.cat(embedding_val, 1)\n",
        "z"
      ],
      "execution_count": 210,
      "outputs": [
        {
          "output_type": "execute_result",
          "data": {
            "text/plain": [
              "tensor([[ 0.7256, -0.5763,  0.7455,  ...,  0.8696,  0.1237, -0.2942],\n",
              "        [-0.3353, -0.0051,  0.7506,  ...,  0.8696,  0.1237, -0.2942],\n",
              "        [ 0.7256, -0.5763,  0.7455,  ...,  0.8696,  0.1237, -0.2942],\n",
              "        ...,\n",
              "        [ 0.7256, -0.5763,  0.7455,  ...,  0.8696,  0.1237, -0.2942],\n",
              "        [-0.3353, -0.0051,  0.7506,  ...,  0.8696,  0.1237, -0.2942],\n",
              "        [-0.3353, -0.0051,  0.7506,  ...,  0.8696,  0.1237, -0.2942]],\n",
              "       grad_fn=<CatBackward>)"
            ]
          },
          "metadata": {
            "tags": []
          },
          "execution_count": 210
        }
      ]
    },
    {
      "cell_type": "code",
      "metadata": {
        "id": "9_kqi9m51qYv",
        "colab_type": "code",
        "colab": {}
      },
      "source": [
        "droput=nn.Dropout(.4)"
      ],
      "execution_count": 211,
      "outputs": []
    },
    {
      "cell_type": "code",
      "metadata": {
        "id": "aEgv674C1qUI",
        "colab_type": "code",
        "colab": {
          "base_uri": "https://localhost:8080/",
          "height": 153
        },
        "outputId": "2cd83072-49db-472d-8ed8-ab3e70e962dc"
      },
      "source": [
        "final_embed=droput(z)\n",
        "final_embed"
      ],
      "execution_count": 212,
      "outputs": [
        {
          "output_type": "execute_result",
          "data": {
            "text/plain": [
              "tensor([[ 0.0000, -0.0000,  0.0000,  ...,  0.0000,  0.0000, -0.4903],\n",
              "        [-0.0000, -0.0000,  0.0000,  ...,  1.4494,  0.2061, -0.4903],\n",
              "        [ 1.2093, -0.0000,  1.2425,  ...,  1.4494,  0.2061, -0.4903],\n",
              "        ...,\n",
              "        [ 0.0000, -0.9606,  0.0000,  ...,  1.4494,  0.2061, -0.4903],\n",
              "        [-0.0000, -0.0085,  0.0000,  ...,  0.0000,  0.2061, -0.0000],\n",
              "        [-0.5589, -0.0000,  1.2510,  ...,  0.0000,  0.0000, -0.0000]],\n",
              "       grad_fn=<MulBackward0>)"
            ]
          },
          "metadata": {
            "tags": []
          },
          "execution_count": 212
        }
      ]
    },
    {
      "cell_type": "code",
      "metadata": {
        "id": "8MocZSGvsH0g",
        "colab_type": "code",
        "colab": {}
      },
      "source": [
        "import torch\n",
        "import torch.nn as nn\n",
        "import torch.nn.functional as F\n",
        "class FeedForwardNN(nn.Module):\n",
        "\n",
        "    def __init__(self, embedding_dim, n_cont, out_sz, layers, p=0.5):\n",
        "        super().__init__()\n",
        "        self.embeds = nn.ModuleList([nn.Embedding(inp,out) for inp,out in embedding_dim])\n",
        "        self.emb_drop = nn.Dropout(p)\n",
        "        self.bn_cont = nn.BatchNorm1d(n_cont)\n",
        "        \n",
        "        layerlist = []\n",
        "        n_emb = sum((out for inp,out in embedding_dim))\n",
        "        n_in = n_emb + n_cont\n",
        "        \n",
        "        for i in layers:\n",
        "            layerlist.append(nn.Linear(n_in,i)) \n",
        "            layerlist.append(nn.ReLU(inplace=True))\n",
        "            layerlist.append(nn.BatchNorm1d(i))\n",
        "            layerlist.append(nn.Dropout(p))\n",
        "            n_in = i\n",
        "        layerlist.append(nn.Linear(layers[-1],out_sz))\n",
        "            \n",
        "        self.layers = nn.Sequential(*layerlist)\n",
        "    \n",
        "    def forward(self, x_cat, x_cont):\n",
        "        embeddings = []\n",
        "        for i,e in enumerate(self.embeds):\n",
        "            embeddings.append(e(x_cat[:,i]))\n",
        "        x = torch.cat(embeddings, 1)\n",
        "        x = self.emb_drop(x)\n",
        "        \n",
        "        x_cont = self.bn_cont(x_cont)\n",
        "        x = torch.cat([x, x_cont], 1)\n",
        "        x = self.layers(x)\n",
        "        return x"
      ],
      "execution_count": 214,
      "outputs": []
    },
    {
      "cell_type": "code",
      "metadata": {
        "id": "rfMU5ZIwofdZ",
        "colab_type": "code",
        "colab": {}
      },
      "source": [
        "torch.manual_seed(100)\n",
        "model=FeedForwardNN(embedding_dim,len(cont_features),1,[100,50],p=0.4)"
      ],
      "execution_count": 215,
      "outputs": []
    },
    {
      "cell_type": "code",
      "metadata": {
        "id": "T_zJ2ONpofYd",
        "colab_type": "code",
        "colab": {}
      },
      "source": [
        "loss_function=nn.MSELoss()\n",
        "optimizer=torch.optim.Adam(model.parameters(),lr=0.01)"
      ],
      "execution_count": 216,
      "outputs": []
    },
    {
      "cell_type": "code",
      "metadata": {
        "id": "LjsdgeBQofTT",
        "colab_type": "code",
        "colab": {}
      },
      "source": [
        "batch_size=22550\n",
        "test_size=int(batch_size*0.30)\n",
        "train_categorical=cat_features[:batch_size-test_size]\n",
        "test_categorical=cat_features[batch_size-test_size:batch_size]\n",
        "train_cont=cont_values[:batch_size-test_size]\n",
        "test_cont=cont_values[batch_size-test_size:batch_size]\n",
        "y_train=y[:batch_size-test_size]\n",
        "y_test=y[batch_size-test_size:batch_size]"
      ],
      "execution_count": 297,
      "outputs": []
    },
    {
      "cell_type": "code",
      "metadata": {
        "id": "d5KkVgEDofOZ",
        "colab_type": "code",
        "colab": {
          "base_uri": "https://localhost:8080/",
          "height": 34
        },
        "outputId": "0e5af36a-b88c-423a-c725-26b16da41b9d"
      },
      "source": [
        "len(train_categorical),len(test_categorical),len(train_cont),len(test_cont),len(y_train),len(y_test)"
      ],
      "execution_count": 298,
      "outputs": [
        {
          "output_type": "execute_result",
          "data": {
            "text/plain": [
              "(15785, 6765, 15785, 6765, 15785, 6765)"
            ]
          },
          "metadata": {
            "tags": []
          },
          "execution_count": 298
        }
      ]
    },
    {
      "cell_type": "code",
      "metadata": {
        "id": "2A4zDzt-otS8",
        "colab_type": "code",
        "colab": {
          "base_uri": "https://localhost:8080/",
          "height": 1000
        },
        "outputId": "bd1d89bd-ee56-419e-d908-316be1af4205"
      },
      "source": [
        "epochs=1500\n",
        "final_losses=[]\n",
        "for i in range(epochs):\n",
        "    i=i+1\n",
        "    y_pred=model(train_categorical,train_cont)\n",
        "    loss=torch.sqrt(loss_function(y_pred,y_train)) ### RMSE\n",
        "    final_losses.append(loss)\n",
        "    if i%10==1:\n",
        "        print(\"Epoch number: {} and the loss : {}\".format(i,loss.item()))\n",
        "    optimizer.zero_grad()\n",
        "    loss.backward()\n",
        "    optimizer.step()"
      ],
      "execution_count": 299,
      "outputs": [
        {
          "output_type": "stream",
          "text": [
            "Epoch number: 1 and the loss : 0.19011136889457703\n",
            "Epoch number: 11 and the loss : 0.1314036250114441\n",
            "Epoch number: 21 and the loss : 0.23664866387844086\n",
            "Epoch number: 31 and the loss : 0.20756246149539948\n",
            "Epoch number: 41 and the loss : 0.3034913241863251\n",
            "Epoch number: 51 and the loss : 0.2063155174255371\n",
            "Epoch number: 61 and the loss : 0.22977536916732788\n",
            "Epoch number: 71 and the loss : 0.11534150689840317\n",
            "Epoch number: 81 and the loss : 0.1854086071252823\n",
            "Epoch number: 91 and the loss : 0.12352684885263443\n",
            "Epoch number: 101 and the loss : 0.1760406345129013\n",
            "Epoch number: 111 and the loss : 0.14046542346477509\n",
            "Epoch number: 121 and the loss : 0.32425060868263245\n",
            "Epoch number: 131 and the loss : 0.22301174700260162\n",
            "Epoch number: 141 and the loss : 0.1727079302072525\n",
            "Epoch number: 151 and the loss : 0.19163167476654053\n",
            "Epoch number: 161 and the loss : 0.16648568212985992\n",
            "Epoch number: 171 and the loss : 0.17599435150623322\n",
            "Epoch number: 181 and the loss : 0.1745576411485672\n",
            "Epoch number: 191 and the loss : 0.19739332795143127\n",
            "Epoch number: 201 and the loss : 0.17262236773967743\n",
            "Epoch number: 211 and the loss : 0.19435158371925354\n",
            "Epoch number: 221 and the loss : 0.1611904799938202\n",
            "Epoch number: 231 and the loss : 0.20159579813480377\n",
            "Epoch number: 241 and the loss : 0.1524726003408432\n",
            "Epoch number: 251 and the loss : 0.20642907917499542\n",
            "Epoch number: 261 and the loss : 0.14658845961093903\n",
            "Epoch number: 271 and the loss : 0.20595477521419525\n",
            "Epoch number: 281 and the loss : 0.15218980610370636\n",
            "Epoch number: 291 and the loss : 0.19796234369277954\n",
            "Epoch number: 301 and the loss : 0.15735533833503723\n",
            "Epoch number: 311 and the loss : 0.18670165538787842\n",
            "Epoch number: 321 and the loss : 0.16532884538173676\n",
            "Epoch number: 331 and the loss : 0.18030323088169098\n",
            "Epoch number: 341 and the loss : 0.16887177526950836\n",
            "Epoch number: 351 and the loss : 0.17172376811504364\n",
            "Epoch number: 361 and the loss : 0.17470893263816833\n",
            "Epoch number: 371 and the loss : 0.16672959923744202\n",
            "Epoch number: 381 and the loss : 0.1802472472190857\n",
            "Epoch number: 391 and the loss : 0.18229840695858002\n",
            "Epoch number: 401 and the loss : 0.1592637300491333\n",
            "Epoch number: 411 and the loss : 0.1857021003961563\n",
            "Epoch number: 421 and the loss : 0.1620672047138214\n",
            "Epoch number: 431 and the loss : 0.18966315686702728\n",
            "Epoch number: 441 and the loss : 0.1484127640724182\n",
            "Epoch number: 451 and the loss : 0.19369187951087952\n",
            "Epoch number: 461 and the loss : 0.14757102727890015\n",
            "Epoch number: 471 and the loss : 0.19153444468975067\n",
            "Epoch number: 481 and the loss : 0.15055182576179504\n",
            "Epoch number: 491 and the loss : 0.18487364053726196\n",
            "Epoch number: 501 and the loss : 0.15295450389385223\n",
            "Epoch number: 511 and the loss : 0.1876644790172577\n",
            "Epoch number: 521 and the loss : 0.1494436413049698\n",
            "Epoch number: 531 and the loss : 0.18819426000118256\n",
            "Epoch number: 541 and the loss : 0.143332839012146\n",
            "Epoch number: 551 and the loss : 0.19390957057476044\n",
            "Epoch number: 561 and the loss : 0.14918972551822662\n",
            "Epoch number: 571 and the loss : 0.14610402286052704\n",
            "Epoch number: 581 and the loss : 0.11220765113830566\n",
            "Epoch number: 591 and the loss : 0.161711648106575\n",
            "Epoch number: 601 and the loss : 0.1608935445547104\n",
            "Epoch number: 611 and the loss : 0.19483709335327148\n",
            "Epoch number: 621 and the loss : 0.19257855415344238\n",
            "Epoch number: 631 and the loss : 0.18043524026870728\n",
            "Epoch number: 641 and the loss : 0.1784423291683197\n",
            "Epoch number: 651 and the loss : 0.1600014865398407\n",
            "Epoch number: 661 and the loss : 0.17017321288585663\n",
            "Epoch number: 671 and the loss : 0.15776701271533966\n",
            "Epoch number: 681 and the loss : 0.17785923182964325\n",
            "Epoch number: 691 and the loss : 0.16999992728233337\n",
            "Epoch number: 701 and the loss : 0.17241202294826508\n",
            "Epoch number: 711 and the loss : 0.17175504565238953\n",
            "Epoch number: 721 and the loss : 0.15098650753498077\n",
            "Epoch number: 731 and the loss : 0.18272998929023743\n",
            "Epoch number: 741 and the loss : 0.14982318878173828\n",
            "Epoch number: 751 and the loss : 0.1790190488100052\n",
            "Epoch number: 761 and the loss : 0.14314644038677216\n",
            "Epoch number: 771 and the loss : 0.18739378452301025\n",
            "Epoch number: 781 and the loss : 0.15418745577335358\n",
            "Epoch number: 791 and the loss : 0.513814389705658\n",
            "Epoch number: 801 and the loss : 0.11476170271635056\n",
            "Epoch number: 811 and the loss : 0.2505725622177124\n",
            "Epoch number: 821 and the loss : 0.25122013688087463\n",
            "Epoch number: 831 and the loss : 0.1622137725353241\n",
            "Epoch number: 841 and the loss : 0.31211456656455994\n",
            "Epoch number: 851 and the loss : 0.12236054241657257\n",
            "Epoch number: 861 and the loss : 0.3129766881465912\n",
            "Epoch number: 871 and the loss : 0.21088911592960358\n",
            "Epoch number: 881 and the loss : 0.27099844813346863\n",
            "Epoch number: 891 and the loss : 0.12878690659999847\n",
            "Epoch number: 901 and the loss : 0.2555808424949646\n",
            "Epoch number: 911 and the loss : 0.23345670104026794\n",
            "Epoch number: 921 and the loss : 0.2971626818180084\n",
            "Epoch number: 931 and the loss : 0.10948112607002258\n",
            "Epoch number: 941 and the loss : 0.23121902346611023\n",
            "Epoch number: 951 and the loss : 0.2123667150735855\n",
            "Epoch number: 961 and the loss : 0.3010258972644806\n",
            "Epoch number: 971 and the loss : 0.11562230437994003\n",
            "Epoch number: 981 and the loss : 0.21233321726322174\n",
            "Epoch number: 991 and the loss : 0.2232987880706787\n",
            "Epoch number: 1001 and the loss : 0.32309794425964355\n",
            "Epoch number: 1011 and the loss : 0.14248284697532654\n",
            "Epoch number: 1021 and the loss : 0.1532779335975647\n",
            "Epoch number: 1031 and the loss : 0.10440608859062195\n",
            "Epoch number: 1041 and the loss : 0.19050069153308868\n",
            "Epoch number: 1051 and the loss : 0.18473628163337708\n",
            "Epoch number: 1061 and the loss : 0.3482809364795685\n",
            "Epoch number: 1071 and the loss : 0.22337807714939117\n",
            "Epoch number: 1081 and the loss : 0.23275087773799896\n",
            "Epoch number: 1091 and the loss : 0.15268991887569427\n",
            "Epoch number: 1101 and the loss : 0.2710970938205719\n",
            "Epoch number: 1111 and the loss : 0.07945727556943893\n",
            "Epoch number: 1121 and the loss : 0.19612930715084076\n",
            "Epoch number: 1131 and the loss : 0.13483111560344696\n",
            "Epoch number: 1141 and the loss : 0.24213328957557678\n",
            "Epoch number: 1151 and the loss : 0.1347578912973404\n",
            "Epoch number: 1161 and the loss : 0.24634627997875214\n",
            "Epoch number: 1171 and the loss : 0.1961391717195511\n",
            "Epoch number: 1181 and the loss : 0.253917932510376\n",
            "Epoch number: 1191 and the loss : 0.09374363720417023\n",
            "Epoch number: 1201 and the loss : 0.17153602838516235\n",
            "Epoch number: 1211 and the loss : 0.16338492929935455\n",
            "Epoch number: 1221 and the loss : 0.23486194014549255\n",
            "Epoch number: 1231 and the loss : 0.10254288464784622\n",
            "Epoch number: 1241 and the loss : 0.1727512627840042\n",
            "Epoch number: 1251 and the loss : 0.15480443835258484\n",
            "Epoch number: 1261 and the loss : 0.25028881430625916\n",
            "Epoch number: 1271 and the loss : 0.08904979377985\n",
            "Epoch number: 1281 and the loss : 0.21414034068584442\n",
            "Epoch number: 1291 and the loss : 0.19648012518882751\n",
            "Epoch number: 1301 and the loss : 0.23526105284690857\n",
            "Epoch number: 1311 and the loss : 0.15833164751529694\n",
            "Epoch number: 1321 and the loss : 0.2535329759120941\n",
            "Epoch number: 1331 and the loss : 0.13219380378723145\n",
            "Epoch number: 1341 and the loss : 0.19565603137016296\n",
            "Epoch number: 1351 and the loss : 0.16277195513248444\n",
            "Epoch number: 1361 and the loss : 0.21644750237464905\n",
            "Epoch number: 1371 and the loss : 0.15339861810207367\n",
            "Epoch number: 1381 and the loss : 0.23600223660469055\n",
            "Epoch number: 1391 and the loss : 0.15654119849205017\n",
            "Epoch number: 1401 and the loss : 0.21274979412555695\n",
            "Epoch number: 1411 and the loss : 0.16355174779891968\n",
            "Epoch number: 1421 and the loss : 0.2093047946691513\n",
            "Epoch number: 1431 and the loss : 0.16546186804771423\n",
            "Epoch number: 1441 and the loss : 0.20707207918167114\n",
            "Epoch number: 1451 and the loss : 0.16717955470085144\n",
            "Epoch number: 1461 and the loss : 0.20384743809700012\n",
            "Epoch number: 1471 and the loss : 0.16897626221179962\n",
            "Epoch number: 1481 and the loss : 0.2002473771572113\n",
            "Epoch number: 1491 and the loss : 0.17048220336437225\n"
          ],
          "name": "stdout"
        }
      ]
    },
    {
      "cell_type": "code",
      "metadata": {
        "id": "MTmn80wOotNR",
        "colab_type": "code",
        "colab": {
          "base_uri": "https://localhost:8080/",
          "height": 398
        },
        "outputId": "7fd2c8c3-1997-40f6-ff0e-162a94236cb0"
      },
      "source": [
        "plt.plot(range(epochs), final_losses)\n",
        "plt.ylabel('RMSE Loss')\n",
        "plt.xlabel('epoch');"
      ],
      "execution_count": 302,
      "outputs": [
        {
          "output_type": "display_data",
          "data": {
            "image/png": "[encoded data removed]",
            "text/plain": [
              "<Figure size 576x432 with 1 Axes>"
            ]
          },
          "metadata": {
            "tags": [],
            "needs_background": "light"
          }
        }
      ]
    },
    {
      "cell_type": "code",
      "metadata": {
        "id": "JcvlQNtgotHX",
        "colab_type": "code",
        "colab": {
          "base_uri": "https://localhost:8080/",
          "height": 34
        },
        "outputId": "e067adad-8722-4e4a-8b39-758beac6c62a"
      },
      "source": [
        "y_pred=\"\"\n",
        "with torch.no_grad():\n",
        "    y_pred=model(test_categorical,test_cont)\n",
        "    loss=torch.sqrt(loss_function(y_pred,y_test))\n",
        "print('RMSE: {}'.format(loss))"
      ],
      "execution_count": 303,
      "outputs": [
        {
          "output_type": "stream",
          "text": [
            "RMSE: 0.6337066292762756\n"
          ],
          "name": "stdout"
        }
      ]
    },
    {
      "cell_type": "code",
      "metadata": {
        "id": "HyuJ2lU_otBi",
        "colab_type": "code",
        "colab": {}
      },
      "source": [
        "data_verify=pd.DataFrame(y_test.tolist(),columns=[\"Test\"])"
      ],
      "execution_count": 304,
      "outputs": []
    },
    {
      "cell_type": "code",
      "metadata": {
        "id": "-klLc8PbofI_",
        "colab_type": "code",
        "colab": {}
      },
      "source": [
        "data_predicted=pd.DataFrame(y_pred.tolist(),columns=[\"Prediction\"])"
      ],
      "execution_count": 305,
      "outputs": []
    },
    {
      "cell_type": "code",
      "metadata": {
        "id": "UyR5lnw0pIsT",
        "colab_type": "code",
        "colab": {
          "base_uri": "https://localhost:8080/",
          "height": 204
        },
        "outputId": "5b1a10bc-8b74-4cfa-dd03-cf7c185fe586"
      },
      "source": [
        "final_output=pd.concat([data_verify,data_predicted],axis=1)\n",
        "final_output['Difference']=final_output['Test']-final_output['Prediction']\n",
        "final_output.head()"
      ],
      "execution_count": 306,
      "outputs": [
        {
          "output_type": "execute_result",
          "data": {
            "text/html": [
              "<div>\n",
              "<style scoped>\n",
              "    .dataframe tbody tr th:only-of-type {\n",
              "        vertical-align: middle;\n",
              "    }\n",
              "\n",
              "    .dataframe tbody tr th {\n",
              "        vertical-align: top;\n",
              "    }\n",
              "\n",
              "    .dataframe thead th {\n",
              "        text-align: right;\n",
              "    }\n",
              "</style>\n",
              "<table border=\"1\" class=\"dataframe\">\n",
              "  <thead>\n",
              "    <tr style=\"text-align: right;\">\n",
              "      <th></th>\n",
              "      <th>Test</th>\n",
              "      <th>Prediction</th>\n",
              "      <th>Difference</th>\n",
              "    </tr>\n",
              "  </thead>\n",
              "  <tbody>\n",
              "    <tr>\n",
              "      <th>0</th>\n",
              "      <td>34.0</td>\n",
              "      <td>34.142593</td>\n",
              "      <td>-0.142593</td>\n",
              "    </tr>\n",
              "    <tr>\n",
              "      <th>1</th>\n",
              "      <td>34.0</td>\n",
              "      <td>34.142723</td>\n",
              "      <td>-0.142723</td>\n",
              "    </tr>\n",
              "    <tr>\n",
              "      <th>2</th>\n",
              "      <td>14.0</td>\n",
              "      <td>14.257292</td>\n",
              "      <td>-0.257292</td>\n",
              "    </tr>\n",
              "    <tr>\n",
              "      <th>3</th>\n",
              "      <td>39.0</td>\n",
              "      <td>39.111877</td>\n",
              "      <td>-0.111877</td>\n",
              "    </tr>\n",
              "    <tr>\n",
              "      <th>4</th>\n",
              "      <td>74.0</td>\n",
              "      <td>73.926178</td>\n",
              "      <td>0.073822</td>\n",
              "    </tr>\n",
              "  </tbody>\n",
              "</table>\n",
              "</div>"
            ],
            "text/plain": [
              "   Test  Prediction  Difference\n",
              "0  34.0   34.142593   -0.142593\n",
              "1  34.0   34.142723   -0.142723\n",
              "2  14.0   14.257292   -0.257292\n",
              "3  39.0   39.111877   -0.111877\n",
              "4  74.0   73.926178    0.073822"
            ]
          },
          "metadata": {
            "tags": []
          },
          "execution_count": 306
        }
      ]
    },
    {
      "cell_type": "code",
      "metadata": {
        "id": "-oDemmuB47GZ",
        "colab_type": "code",
        "colab": {
          "base_uri": "https://localhost:8080/",
          "height": 34
        },
        "outputId": "d9a54797-6a11-48c9-90c4-70b2d84c7d4c"
      },
      "source": [
        "final_output['Difference'].mean()"
      ],
      "execution_count": 307,
      "outputs": [
        {
          "output_type": "execute_result",
          "data": {
            "text/plain": [
              "-0.014109148841739494"
            ]
          },
          "metadata": {
            "tags": []
          },
          "execution_count": 307
        }
      ]
    },
    {
      "cell_type": "code",
      "metadata": {
        "id": "jbFLzwWMpIlZ",
        "colab_type": "code",
        "colab": {}
      },
      "source": [
        "#### Saving The Model\n",
        "#### Save the model\n",
        "torch.save(model,'Kaggle_House_data.pt')"
      ],
      "execution_count": 230,
      "outputs": []
    },
    {
      "cell_type": "code",
      "metadata": {
        "id": "MWhBk5yYpIes",
        "colab_type": "code",
        "colab": {}
      },
      "source": [
        "torch.save(model.state_dict(),'Kaggle_House_data.pt')"
      ],
      "execution_count": 231,
      "outputs": []
    },
    {
      "cell_type": "code",
      "metadata": {
        "id": "tAComfr7pTb_",
        "colab_type": "code",
        "colab": {}
      },
      "source": [
        "### Loading the saved Model\n",
        "embs_size=[(15, 8), (5, 3), (2, 1), (4, 2)]\n",
        "model1=FeedForwardNN(embs_size,5,1,[100,50],p=0.4)"
      ],
      "execution_count": 232,
      "outputs": []
    },
    {
      "cell_type": "code",
      "metadata": {
        "id": "4Mj4I3TlpTUC",
        "colab_type": "code",
        "colab": {}
      },
      "source": [
        "model1.load_state_dict(torch.load('Kaggle_House_data.pt'))"
      ],
      "execution_count": null,
      "outputs": []
    },
    {
      "cell_type": "code",
      "metadata": {
        "id": "ldErmKWApTNP",
        "colab_type": "code",
        "colab": {}
      },
      "source": [
        "model.eval()"
      ],
      "execution_count": null,
      "outputs": []
    },
    {
      "cell_type": "markdown",
      "metadata": {
        "id": "mjc2L0Mdphjc",
        "colab_type": "text"
      },
      "source": [
        "## An analysis on the most common words used in reviews & Property desciption"
      ]
    },
    {
      "cell_type": "code",
      "metadata": {
        "id": "AsDIswIC1hMu",
        "colab_type": "code",
        "colab": {}
      },
      "source": [
        "words = \" \".join(df['cleanLinks'])\n",
        "def punctuation_stop(text):\n",
        "    \"\"\"remove punctuation and stop words\"\"\"\n",
        "    filtered = []\n",
        "    stop_words = set(stopwords.words('english'))\n",
        "    word_tokens = word_tokenize(text)\n",
        "    for w in word_tokens:\n",
        "        if w not in stop_words and w.isalpha():\n",
        "            filtered.append(w.lower())\n",
        "    return filtered\n",
        "\n",
        "words_filtered = punctuation_stop(words)\n",
        "text = \" \".join([ele for ele in words_filtered if ele not in unwanted])\n",
        "wc= WordCloud(background_color=\"gray\", random_state=1,stopwords=STOPWORDS, max_words = 500, width =2000, height = 2000)\n",
        "wc.generate(text)\n",
        "plt.figure(figsize=[10,10])\n",
        "plt.imshow(wc, interpolation=\"bilinear\")\n",
        "plt.axis('off')\n",
        "plt.show()"
      ],
      "execution_count": null,
      "outputs": []
    }
  ]
}