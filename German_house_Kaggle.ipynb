{
  "nbformat": 4,
  "nbformat_minor": 0,
  "metadata": {
    "colab": {
      "name": "German house Kaggle.ipynb",
      "provenance": [],
      "authorship_tag": "ABX9TyPKzNSEOEWpNsOvyGdg+KUU",
      "include_colab_link": true
    },
    "kernelspec": {
      "name": "python3",
      "display_name": "Python 3"
    },
    "accelerator": "GPU"
  },
  "cells": [
    {
      "cell_type": "markdown",
      "metadata": {
        "id": "view-in-github",
        "colab_type": "text"
      },
      "source": [
        "<a href=\"https://colab.research.google.com/github/SamuelLawrence876/Analysing-Berling-AirBnB-Rental/blob/master/German_house_Kaggle.ipynb\" target=\"_parent\"><img src=\"https://colab.research.google.com/assets/colab-badge.svg\" alt=\"Open In Colab\"/></a>"
      ]
    },
    {
      "cell_type": "code",
      "metadata": {
        "id": "l7GUSKXDwKj1",
        "colab_type": "code",
        "colab": {
          "base_uri": "https://localhost:8080/",
          "height": 51
        },
        "outputId": "6c0eb93a-4e11-4af4-f6d9-e78a0bb081b5"
      },
      "source": [
        "import os \n",
        "import pandas as pd\n",
        "import numpy as np\n",
        "import matplotlib.pyplot as plt\n",
        "import seaborn as sns\n",
        "import datetime \n",
        "#WordCounting\n",
        "from wordcloud import WordCloud, ImageColorGenerator, STOPWORDS\n",
        "from nltk.corpus import stopwords\n",
        "from nltk.tokenize import word_tokenize\n",
        "#warnings\n",
        "import warnings\n",
        "warnings.filterwarnings(\"ignore\")"
      ],
      "execution_count": null,
      "outputs": [
        {
          "output_type": "stream",
          "text": [
            "/usr/local/lib/python3.6/dist-packages/statsmodels/tools/_testing.py:19: FutureWarning: pandas.util.testing is deprecated. Use the functions in the public API at pandas.testing instead.\n",
            "  import pandas.util.testing as tm\n"
          ],
          "name": "stderr"
        }
      ]
    },
    {
      "cell_type": "code",
      "metadata": {
        "id": "k88wya-y2MzA",
        "colab_type": "code",
        "colab": {}
      },
      "source": [
        "!mkdir ~/.kaggle\n",
        "#!cd ~/.kaggle\n",
        "!touch ~/.kaggle/kaggle.json\n",
        "\n",
        "api_token = {\"username\":\"xxx\",\"key\":\"xxx\"}\n",
        "\n",
        "import json\n",
        "\n",
        "with open('/root/.kaggle/kaggle.json', 'w') as file:\n",
        "    json.dump(api_token, file)\n",
        "\n",
        "!chmod 600 ~/.kaggle/kaggle.json"
      ],
      "execution_count": null,
      "outputs": []
    },
    {
      "cell_type": "code",
      "metadata": {
        "id": "l43ub-Ej2M1l",
        "colab_type": "code",
        "colab": {
          "base_uri": "https://localhost:8080/",
          "height": 68
        },
        "outputId": "24a7b501-e55c-4f65-f809-222cfe08a49a"
      },
      "source": [
        "!kaggle datasets download -d brittabettendorf/berlin-airbnb-data"
      ],
      "execution_count": null,
      "outputs": [
        {
          "output_type": "stream",
          "text": [
            "Downloading berlin-airbnb-data.zip to /content\n",
            " 99% 87.0M/87.7M [00:01<00:00, 39.0MB/s]\n",
            "100% 87.7M/87.7M [00:01<00:00, 58.6MB/s]\n"
          ],
          "name": "stdout"
        }
      ]
    },
    {
      "cell_type": "code",
      "metadata": {
        "id": "5ZlFb7MR4WpJ",
        "colab_type": "code",
        "colab": {}
      },
      "source": [
        "import zipfile\n",
        "\n",
        "zf = zipfile.ZipFile('berlin-airbnb-data.zip') \n",
        "df_calender_summary = pd.read_csv(zf.open('calendar_summary.csv'))\n",
        "df_listings = pd.read_csv(zf.open('listings.csv'))\n",
        "df_listings_summary = pd.read_csv(zf.open('listings_summary.csv'))\n",
        "df_neighbourhoods = pd.read_csv(zf.open('neighbourhoods.csv'))\n",
        "df_reviews1 = pd.read_csv(zf.open('reviews.csv'))\n",
        "df_reviews_summary = pd.read_csv(zf.open('reviews_summary.csv'))"
      ],
      "execution_count": null,
      "outputs": []
    },
    {
      "cell_type": "code",
      "metadata": {
        "id": "eZoGLUlk8796",
        "colab_type": "code",
        "colab": {
          "base_uri": "https://localhost:8080/",
          "height": 261
        },
        "outputId": "72a2be31-f88a-475b-8228-1c4f3c12e2ab"
      },
      "source": [
        "df_listings.head(3)"
      ],
      "execution_count": null,
      "outputs": [
        {
          "output_type": "execute_result",
          "data": {
            "text/html": [
              "<div>\n",
              "<style scoped>\n",
              "    .dataframe tbody tr th:only-of-type {\n",
              "        vertical-align: middle;\n",
              "    }\n",
              "\n",
              "    .dataframe tbody tr th {\n",
              "        vertical-align: top;\n",
              "    }\n",
              "\n",
              "    .dataframe thead th {\n",
              "        text-align: right;\n",
              "    }\n",
              "</style>\n",
              "<table border=\"1\" class=\"dataframe\">\n",
              "  <thead>\n",
              "    <tr style=\"text-align: right;\">\n",
              "      <th></th>\n",
              "      <th>id</th>\n",
              "      <th>name</th>\n",
              "      <th>host_id</th>\n",
              "      <th>host_name</th>\n",
              "      <th>neighbourhood_group</th>\n",
              "      <th>neighbourhood</th>\n",
              "      <th>latitude</th>\n",
              "      <th>longitude</th>\n",
              "      <th>room_type</th>\n",
              "      <th>price</th>\n",
              "      <th>minimum_nights</th>\n",
              "      <th>number_of_reviews</th>\n",
              "      <th>last_review</th>\n",
              "      <th>reviews_per_month</th>\n",
              "      <th>calculated_host_listings_count</th>\n",
              "      <th>availability_365</th>\n",
              "    </tr>\n",
              "  </thead>\n",
              "  <tbody>\n",
              "    <tr>\n",
              "      <th>0</th>\n",
              "      <td>2015</td>\n",
              "      <td>Berlin-Mitte Value! Quiet courtyard/very central</td>\n",
              "      <td>2217</td>\n",
              "      <td>Ian</td>\n",
              "      <td>Mitte</td>\n",
              "      <td>Brunnenstr. Süd</td>\n",
              "      <td>52.534537</td>\n",
              "      <td>13.402557</td>\n",
              "      <td>Entire home/apt</td>\n",
              "      <td>60</td>\n",
              "      <td>4</td>\n",
              "      <td>118</td>\n",
              "      <td>2018-10-28</td>\n",
              "      <td>3.76</td>\n",
              "      <td>4</td>\n",
              "      <td>141</td>\n",
              "    </tr>\n",
              "    <tr>\n",
              "      <th>1</th>\n",
              "      <td>2695</td>\n",
              "      <td>Prenzlauer Berg close to Mauerpark</td>\n",
              "      <td>2986</td>\n",
              "      <td>Michael</td>\n",
              "      <td>Pankow</td>\n",
              "      <td>Prenzlauer Berg Nordwest</td>\n",
              "      <td>52.548513</td>\n",
              "      <td>13.404553</td>\n",
              "      <td>Private room</td>\n",
              "      <td>17</td>\n",
              "      <td>2</td>\n",
              "      <td>6</td>\n",
              "      <td>2018-10-01</td>\n",
              "      <td>1.42</td>\n",
              "      <td>1</td>\n",
              "      <td>0</td>\n",
              "    </tr>\n",
              "    <tr>\n",
              "      <th>2</th>\n",
              "      <td>3176</td>\n",
              "      <td>Fabulous Flat in great Location</td>\n",
              "      <td>3718</td>\n",
              "      <td>Britta</td>\n",
              "      <td>Pankow</td>\n",
              "      <td>Prenzlauer Berg Südwest</td>\n",
              "      <td>52.534996</td>\n",
              "      <td>13.417579</td>\n",
              "      <td>Entire home/apt</td>\n",
              "      <td>90</td>\n",
              "      <td>62</td>\n",
              "      <td>143</td>\n",
              "      <td>2017-03-20</td>\n",
              "      <td>1.25</td>\n",
              "      <td>1</td>\n",
              "      <td>220</td>\n",
              "    </tr>\n",
              "  </tbody>\n",
              "</table>\n",
              "</div>"
            ],
            "text/plain": [
              "     id  ... availability_365\n",
              "0  2015  ...              141\n",
              "1  2695  ...                0\n",
              "2  3176  ...              220\n",
              "\n",
              "[3 rows x 16 columns]"
            ]
          },
          "metadata": {
            "tags": []
          },
          "execution_count": 6
        }
      ]
    },
    {
      "cell_type": "code",
      "metadata": {
        "id": "dQrzxqee88BF",
        "colab_type": "code",
        "colab": {
          "base_uri": "https://localhost:8080/",
          "height": 514
        },
        "outputId": "cce242aa-fd9a-4c63-def4-0aab69e195d8"
      },
      "source": [
        "df_listings_summary.head(3)"
      ],
      "execution_count": null,
      "outputs": [
        {
          "output_type": "execute_result",
          "data": {
            "text/html": [
              "<div>\n",
              "<style scoped>\n",
              "    .dataframe tbody tr th:only-of-type {\n",
              "        vertical-align: middle;\n",
              "    }\n",
              "\n",
              "    .dataframe tbody tr th {\n",
              "        vertical-align: top;\n",
              "    }\n",
              "\n",
              "    .dataframe thead th {\n",
              "        text-align: right;\n",
              "    }\n",
              "</style>\n",
              "<table border=\"1\" class=\"dataframe\">\n",
              "  <thead>\n",
              "    <tr style=\"text-align: right;\">\n",
              "      <th></th>\n",
              "      <th>id</th>\n",
              "      <th>listing_url</th>\n",
              "      <th>scrape_id</th>\n",
              "      <th>last_scraped</th>\n",
              "      <th>name</th>\n",
              "      <th>summary</th>\n",
              "      <th>space</th>\n",
              "      <th>description</th>\n",
              "      <th>experiences_offered</th>\n",
              "      <th>neighborhood_overview</th>\n",
              "      <th>notes</th>\n",
              "      <th>transit</th>\n",
              "      <th>access</th>\n",
              "      <th>interaction</th>\n",
              "      <th>house_rules</th>\n",
              "      <th>thumbnail_url</th>\n",
              "      <th>medium_url</th>\n",
              "      <th>picture_url</th>\n",
              "      <th>xl_picture_url</th>\n",
              "      <th>host_id</th>\n",
              "      <th>host_url</th>\n",
              "      <th>host_name</th>\n",
              "      <th>host_since</th>\n",
              "      <th>host_location</th>\n",
              "      <th>host_about</th>\n",
              "      <th>host_response_time</th>\n",
              "      <th>host_response_rate</th>\n",
              "      <th>host_acceptance_rate</th>\n",
              "      <th>host_is_superhost</th>\n",
              "      <th>host_thumbnail_url</th>\n",
              "      <th>host_picture_url</th>\n",
              "      <th>host_neighbourhood</th>\n",
              "      <th>host_listings_count</th>\n",
              "      <th>host_total_listings_count</th>\n",
              "      <th>host_verifications</th>\n",
              "      <th>host_has_profile_pic</th>\n",
              "      <th>host_identity_verified</th>\n",
              "      <th>street</th>\n",
              "      <th>neighbourhood</th>\n",
              "      <th>neighbourhood_cleansed</th>\n",
              "      <th>...</th>\n",
              "      <th>beds</th>\n",
              "      <th>bed_type</th>\n",
              "      <th>amenities</th>\n",
              "      <th>square_feet</th>\n",
              "      <th>price</th>\n",
              "      <th>weekly_price</th>\n",
              "      <th>monthly_price</th>\n",
              "      <th>security_deposit</th>\n",
              "      <th>cleaning_fee</th>\n",
              "      <th>guests_included</th>\n",
              "      <th>extra_people</th>\n",
              "      <th>minimum_nights</th>\n",
              "      <th>maximum_nights</th>\n",
              "      <th>calendar_updated</th>\n",
              "      <th>has_availability</th>\n",
              "      <th>availability_30</th>\n",
              "      <th>availability_60</th>\n",
              "      <th>availability_90</th>\n",
              "      <th>availability_365</th>\n",
              "      <th>calendar_last_scraped</th>\n",
              "      <th>number_of_reviews</th>\n",
              "      <th>first_review</th>\n",
              "      <th>last_review</th>\n",
              "      <th>review_scores_rating</th>\n",
              "      <th>review_scores_accuracy</th>\n",
              "      <th>review_scores_cleanliness</th>\n",
              "      <th>review_scores_checkin</th>\n",
              "      <th>review_scores_communication</th>\n",
              "      <th>review_scores_location</th>\n",
              "      <th>review_scores_value</th>\n",
              "      <th>requires_license</th>\n",
              "      <th>license</th>\n",
              "      <th>jurisdiction_names</th>\n",
              "      <th>instant_bookable</th>\n",
              "      <th>is_business_travel_ready</th>\n",
              "      <th>cancellation_policy</th>\n",
              "      <th>require_guest_profile_picture</th>\n",
              "      <th>require_guest_phone_verification</th>\n",
              "      <th>calculated_host_listings_count</th>\n",
              "      <th>reviews_per_month</th>\n",
              "    </tr>\n",
              "  </thead>\n",
              "  <tbody>\n",
              "    <tr>\n",
              "      <th>0</th>\n",
              "      <td>2015</td>\n",
              "      <td>https://www.airbnb.com/rooms/2015</td>\n",
              "      <td>20181107122246</td>\n",
              "      <td>2018-11-07</td>\n",
              "      <td>Berlin-Mitte Value! Quiet courtyard/very central</td>\n",
              "      <td>Great location!  30 of 75 sq meters. This wood...</td>\n",
              "      <td>A+++ location! This „Einliegerwohnung“ is an e...</td>\n",
              "      <td>Great location!  30 of 75 sq meters. This wood...</td>\n",
              "      <td>none</td>\n",
              "      <td>It is located in the former East Berlin area o...</td>\n",
              "      <td>This is my home, not a hotel. I rent out occas...</td>\n",
              "      <td>Close to U-Bahn U8 and U2 (metro), Trams M12, ...</td>\n",
              "      <td>Simple kitchen/cooking, refrigerator, microwav...</td>\n",
              "      <td>Always available</td>\n",
              "      <td>No parties No events No pets No smoking, not e...</td>\n",
              "      <td>NaN</td>\n",
              "      <td>NaN</td>\n",
              "      <td>https://a0.muscache.com/im/pictures/260fd609-7...</td>\n",
              "      <td>NaN</td>\n",
              "      <td>2217</td>\n",
              "      <td>https://www.airbnb.com/users/show/2217</td>\n",
              "      <td>Ian</td>\n",
              "      <td>2008-08-18</td>\n",
              "      <td>Key Biscayne, Florida, United States</td>\n",
              "      <td>Believe in sharing economy.</td>\n",
              "      <td>within an hour</td>\n",
              "      <td>96%</td>\n",
              "      <td>NaN</td>\n",
              "      <td>t</td>\n",
              "      <td>https://a0.muscache.com/im/pictures/21428a22-4...</td>\n",
              "      <td>https://a0.muscache.com/im/pictures/21428a22-4...</td>\n",
              "      <td>Mitte</td>\n",
              "      <td>4.0</td>\n",
              "      <td>4.0</td>\n",
              "      <td>['email', 'phone', 'reviews', 'jumio', 'offlin...</td>\n",
              "      <td>t</td>\n",
              "      <td>t</td>\n",
              "      <td>Berlin, Berlin, Germany</td>\n",
              "      <td>Mitte</td>\n",
              "      <td>Brunnenstr. Süd</td>\n",
              "      <td>...</td>\n",
              "      <td>2.0</td>\n",
              "      <td>Real Bed</td>\n",
              "      <td>{TV,\"Cable TV\",Wifi,Kitchen,Gym,Heating,\"Famil...</td>\n",
              "      <td>NaN</td>\n",
              "      <td>$60.00</td>\n",
              "      <td>NaN</td>\n",
              "      <td>NaN</td>\n",
              "      <td>$200.00</td>\n",
              "      <td>$30.00</td>\n",
              "      <td>1</td>\n",
              "      <td>$28.00</td>\n",
              "      <td>4</td>\n",
              "      <td>1125</td>\n",
              "      <td>3 months ago</td>\n",
              "      <td>t</td>\n",
              "      <td>0</td>\n",
              "      <td>21</td>\n",
              "      <td>51</td>\n",
              "      <td>141</td>\n",
              "      <td>2018-11-07</td>\n",
              "      <td>118</td>\n",
              "      <td>2016-04-11</td>\n",
              "      <td>2018-10-28</td>\n",
              "      <td>93.0</td>\n",
              "      <td>10.0</td>\n",
              "      <td>9.0</td>\n",
              "      <td>10.0</td>\n",
              "      <td>10.0</td>\n",
              "      <td>10.0</td>\n",
              "      <td>9.0</td>\n",
              "      <td>t</td>\n",
              "      <td>NaN</td>\n",
              "      <td>NaN</td>\n",
              "      <td>f</td>\n",
              "      <td>f</td>\n",
              "      <td>strict_14_with_grace_period</td>\n",
              "      <td>f</td>\n",
              "      <td>f</td>\n",
              "      <td>4</td>\n",
              "      <td>3.76</td>\n",
              "    </tr>\n",
              "    <tr>\n",
              "      <th>1</th>\n",
              "      <td>2695</td>\n",
              "      <td>https://www.airbnb.com/rooms/2695</td>\n",
              "      <td>20181107122246</td>\n",
              "      <td>2018-11-07</td>\n",
              "      <td>Prenzlauer Berg close to Mauerpark</td>\n",
              "      <td>NaN</td>\n",
              "      <td>In the summertime we are spending most of our ...</td>\n",
              "      <td>In the summertime we are spending most of our ...</td>\n",
              "      <td>none</td>\n",
              "      <td>NaN</td>\n",
              "      <td>NaN</td>\n",
              "      <td>Within walking distance you'll find the S-Bahn...</td>\n",
              "      <td>Außer deinem Zimmer kannst du noch die Küche u...</td>\n",
              "      <td>NaN</td>\n",
              "      <td>NaN</td>\n",
              "      <td>NaN</td>\n",
              "      <td>NaN</td>\n",
              "      <td>https://a0.muscache.com/im/pictures/97d4f6e8-1...</td>\n",
              "      <td>NaN</td>\n",
              "      <td>2986</td>\n",
              "      <td>https://www.airbnb.com/users/show/2986</td>\n",
              "      <td>Michael</td>\n",
              "      <td>2008-09-16</td>\n",
              "      <td>Berlin, Berlin, Germany</td>\n",
              "      <td>Living with my wife in Berlin.  Like travellin...</td>\n",
              "      <td>NaN</td>\n",
              "      <td>NaN</td>\n",
              "      <td>NaN</td>\n",
              "      <td>f</td>\n",
              "      <td>https://a0.muscache.com/im/pictures/50434955-1...</td>\n",
              "      <td>https://a0.muscache.com/im/pictures/50434955-1...</td>\n",
              "      <td>Prenzlauer Berg</td>\n",
              "      <td>1.0</td>\n",
              "      <td>1.0</td>\n",
              "      <td>['email', 'phone', 'reviews', 'jumio', 'govern...</td>\n",
              "      <td>t</td>\n",
              "      <td>t</td>\n",
              "      <td>Berlin, Berlin, Germany</td>\n",
              "      <td>NaN</td>\n",
              "      <td>Prenzlauer Berg Nordwest</td>\n",
              "      <td>...</td>\n",
              "      <td>1.0</td>\n",
              "      <td>Real Bed</td>\n",
              "      <td>{Wifi,Kitchen,Elevator,Heating,Washer,Essentia...</td>\n",
              "      <td>NaN</td>\n",
              "      <td>$17.00</td>\n",
              "      <td>NaN</td>\n",
              "      <td>NaN</td>\n",
              "      <td>$0.00</td>\n",
              "      <td>$0.00</td>\n",
              "      <td>1</td>\n",
              "      <td>$0.00</td>\n",
              "      <td>2</td>\n",
              "      <td>40</td>\n",
              "      <td>7 weeks ago</td>\n",
              "      <td>t</td>\n",
              "      <td>0</td>\n",
              "      <td>0</td>\n",
              "      <td>0</td>\n",
              "      <td>0</td>\n",
              "      <td>2018-11-07</td>\n",
              "      <td>6</td>\n",
              "      <td>2018-07-04</td>\n",
              "      <td>2018-10-01</td>\n",
              "      <td>100.0</td>\n",
              "      <td>10.0</td>\n",
              "      <td>10.0</td>\n",
              "      <td>10.0</td>\n",
              "      <td>10.0</td>\n",
              "      <td>10.0</td>\n",
              "      <td>10.0</td>\n",
              "      <td>t</td>\n",
              "      <td>NaN</td>\n",
              "      <td>NaN</td>\n",
              "      <td>f</td>\n",
              "      <td>f</td>\n",
              "      <td>flexible</td>\n",
              "      <td>f</td>\n",
              "      <td>f</td>\n",
              "      <td>1</td>\n",
              "      <td>1.42</td>\n",
              "    </tr>\n",
              "    <tr>\n",
              "      <th>2</th>\n",
              "      <td>3176</td>\n",
              "      <td>https://www.airbnb.com/rooms/3176</td>\n",
              "      <td>20181107122246</td>\n",
              "      <td>2018-11-07</td>\n",
              "      <td>Fabulous Flat in great Location</td>\n",
              "      <td>This beautiful first floor apartment  is situa...</td>\n",
              "      <td>1st floor (68m2) apartment on Kollwitzplatz/ P...</td>\n",
              "      <td>This beautiful first floor apartment  is situa...</td>\n",
              "      <td>none</td>\n",
              "      <td>The neighbourhood is famous for its variety of...</td>\n",
              "      <td>We welcome FAMILIES and cater especially for y...</td>\n",
              "      <td>We are 5 min walk  away from the tram M2, whic...</td>\n",
              "      <td>The apartment will be entirely yours. We are c...</td>\n",
              "      <td>Feel free to ask any questions prior to bookin...</td>\n",
              "      <td>It’s a non smoking flat, which likes to be tre...</td>\n",
              "      <td>NaN</td>\n",
              "      <td>NaN</td>\n",
              "      <td>https://a0.muscache.com/im/pictures/243355/84a...</td>\n",
              "      <td>NaN</td>\n",
              "      <td>3718</td>\n",
              "      <td>https://www.airbnb.com/users/show/3718</td>\n",
              "      <td>Britta</td>\n",
              "      <td>2008-10-19</td>\n",
              "      <td>Coledale, New South Wales, Australia</td>\n",
              "      <td>We love to travel ourselves a lot and prefer t...</td>\n",
              "      <td>within a day</td>\n",
              "      <td>100%</td>\n",
              "      <td>NaN</td>\n",
              "      <td>f</td>\n",
              "      <td>https://a0.muscache.com/im/users/3718/profile_...</td>\n",
              "      <td>https://a0.muscache.com/im/users/3718/profile_...</td>\n",
              "      <td>Prenzlauer Berg</td>\n",
              "      <td>1.0</td>\n",
              "      <td>1.0</td>\n",
              "      <td>['email', 'phone', 'facebook', 'reviews', 'man...</td>\n",
              "      <td>t</td>\n",
              "      <td>t</td>\n",
              "      <td>Berlin, Berlin, Germany</td>\n",
              "      <td>Prenzlauer Berg</td>\n",
              "      <td>Prenzlauer Berg Südwest</td>\n",
              "      <td>...</td>\n",
              "      <td>2.0</td>\n",
              "      <td>Real Bed</td>\n",
              "      <td>{Internet,Wifi,Kitchen,\"Buzzer/wireless interc...</td>\n",
              "      <td>720.0</td>\n",
              "      <td>$90.00</td>\n",
              "      <td>$520.00</td>\n",
              "      <td>$1,900.00</td>\n",
              "      <td>$200.00</td>\n",
              "      <td>$50.00</td>\n",
              "      <td>2</td>\n",
              "      <td>$20.00</td>\n",
              "      <td>62</td>\n",
              "      <td>1125</td>\n",
              "      <td>a week ago</td>\n",
              "      <td>t</td>\n",
              "      <td>0</td>\n",
              "      <td>0</td>\n",
              "      <td>0</td>\n",
              "      <td>220</td>\n",
              "      <td>2018-11-07</td>\n",
              "      <td>143</td>\n",
              "      <td>2009-06-20</td>\n",
              "      <td>2017-03-20</td>\n",
              "      <td>92.0</td>\n",
              "      <td>9.0</td>\n",
              "      <td>9.0</td>\n",
              "      <td>9.0</td>\n",
              "      <td>9.0</td>\n",
              "      <td>10.0</td>\n",
              "      <td>9.0</td>\n",
              "      <td>t</td>\n",
              "      <td>NaN</td>\n",
              "      <td>NaN</td>\n",
              "      <td>t</td>\n",
              "      <td>f</td>\n",
              "      <td>strict_14_with_grace_period</td>\n",
              "      <td>f</td>\n",
              "      <td>f</td>\n",
              "      <td>1</td>\n",
              "      <td>1.25</td>\n",
              "    </tr>\n",
              "  </tbody>\n",
              "</table>\n",
              "<p>3 rows × 96 columns</p>\n",
              "</div>"
            ],
            "text/plain": [
              "     id  ... reviews_per_month\n",
              "0  2015  ...              3.76\n",
              "1  2695  ...              1.42\n",
              "2  3176  ...              1.25\n",
              "\n",
              "[3 rows x 96 columns]"
            ]
          },
          "metadata": {
            "tags": []
          },
          "execution_count": 7
        }
      ]
    },
    {
      "cell_type": "code",
      "metadata": {
        "id": "j6Hlu-xu1gjO",
        "colab_type": "code",
        "colab": {
          "base_uri": "https://localhost:8080/",
          "height": 510
        },
        "outputId": "ca43c91c-b90e-4f23-b909-9e9659bcfa8f"
      },
      "source": [
        "df_listings_summary.columns"
      ],
      "execution_count": null,
      "outputs": [
        {
          "output_type": "execute_result",
          "data": {
            "text/plain": [
              "Index(['id', 'listing_url', 'scrape_id', 'last_scraped', 'name', 'summary',\n",
              "       'space', 'description', 'experiences_offered', 'neighborhood_overview',\n",
              "       'notes', 'transit', 'access', 'interaction', 'house_rules',\n",
              "       'thumbnail_url', 'medium_url', 'picture_url', 'xl_picture_url',\n",
              "       'host_id', 'host_url', 'host_name', 'host_since', 'host_location',\n",
              "       'host_about', 'host_response_time', 'host_response_rate',\n",
              "       'host_acceptance_rate', 'host_is_superhost', 'host_thumbnail_url',\n",
              "       'host_picture_url', 'host_neighbourhood', 'host_listings_count',\n",
              "       'host_total_listings_count', 'host_verifications',\n",
              "       'host_has_profile_pic', 'host_identity_verified', 'street',\n",
              "       'neighbourhood', 'neighbourhood_cleansed',\n",
              "       'neighbourhood_group_cleansed', 'city', 'state', 'zipcode', 'market',\n",
              "       'smart_location', 'country_code', 'country', 'latitude', 'longitude',\n",
              "       'is_location_exact', 'property_type', 'room_type', 'accommodates',\n",
              "       'bathrooms', 'bedrooms', 'beds', 'bed_type', 'amenities', 'square_feet',\n",
              "       'price', 'weekly_price', 'monthly_price', 'security_deposit',\n",
              "       'cleaning_fee', 'guests_included', 'extra_people', 'minimum_nights',\n",
              "       'maximum_nights', 'calendar_updated', 'has_availability',\n",
              "       'availability_30', 'availability_60', 'availability_90',\n",
              "       'availability_365', 'calendar_last_scraped', 'number_of_reviews',\n",
              "       'first_review', 'last_review', 'review_scores_rating',\n",
              "       'review_scores_accuracy', 'review_scores_cleanliness',\n",
              "       'review_scores_checkin', 'review_scores_communication',\n",
              "       'review_scores_location', 'review_scores_value', 'requires_license',\n",
              "       'license', 'jurisdiction_names', 'instant_bookable',\n",
              "       'is_business_travel_ready', 'cancellation_policy',\n",
              "       'require_guest_profile_picture', 'require_guest_phone_verification',\n",
              "       'calculated_host_listings_count', 'reviews_per_month'],\n",
              "      dtype='object')"
            ]
          },
          "metadata": {
            "tags": []
          },
          "execution_count": 8
        }
      ]
    },
    {
      "cell_type": "code",
      "metadata": {
        "id": "t7NK1AZcfFcu",
        "colab_type": "code",
        "colab": {
          "base_uri": "https://localhost:8080/",
          "height": 1000
        },
        "outputId": "e63ab445-15ba-4a38-bd46-78b72bc370fd"
      },
      "source": [
        "#what columns have the most unique values?\n",
        "for i in df_listings_summary.columns:\n",
        "    print(\"Column name {} and unique values are {}\".format(i,len(df_listings_summary[i].unique())))"
      ],
      "execution_count": null,
      "outputs": [
        {
          "output_type": "stream",
          "text": [
            "Column name id and unique values are 22552\n",
            "Column name listing_url and unique values are 22552\n",
            "Column name scrape_id and unique values are 1\n",
            "Column name last_scraped and unique values are 2\n",
            "Column name name and unique values are 21874\n",
            "Column name summary and unique values are 21042\n",
            "Column name space and unique values are 13599\n",
            "Column name description and unique values are 21998\n",
            "Column name experiences_offered and unique values are 1\n",
            "Column name neighborhood_overview and unique values are 10782\n",
            "Column name notes and unique values are 6688\n",
            "Column name transit and unique values are 12309\n",
            "Column name access and unique values are 9947\n",
            "Column name interaction and unique values are 9585\n",
            "Column name house_rules and unique values are 10351\n",
            "Column name thumbnail_url and unique values are 1\n",
            "Column name medium_url and unique values are 1\n",
            "Column name picture_url and unique values are 22465\n",
            "Column name xl_picture_url and unique values are 1\n",
            "Column name host_id and unique values are 19180\n",
            "Column name host_url and unique values are 19180\n",
            "Column name host_name and unique values are 5998\n",
            "Column name host_since and unique values are 2915\n",
            "Column name host_location and unique values are 1037\n",
            "Column name host_about and unique values are 8880\n",
            "Column name host_response_time and unique values are 5\n",
            "Column name host_response_rate and unique values are 65\n",
            "Column name host_acceptance_rate and unique values are 1\n",
            "Column name host_is_superhost and unique values are 3\n",
            "Column name host_thumbnail_url and unique values are 19101\n",
            "Column name host_picture_url and unique values are 19101\n",
            "Column name host_neighbourhood and unique values are 182\n",
            "Column name host_listings_count and unique values are 32\n",
            "Column name host_total_listings_count and unique values are 32\n",
            "Column name host_verifications and unique values are 301\n",
            "Column name host_has_profile_pic and unique values are 3\n",
            "Column name host_identity_verified and unique values are 3\n",
            "Column name street and unique values are 86\n",
            "Column name neighbourhood and unique values are 92\n",
            "Column name neighbourhood_cleansed and unique values are 136\n",
            "Column name neighbourhood_group_cleansed and unique values are 12\n",
            "Column name city and unique values are 61\n",
            "Column name state and unique values are 20\n",
            "Column name zipcode and unique values are 216\n",
            "Column name market and unique values are 7\n",
            "Column name smart_location and unique values are 61\n",
            "Column name country_code and unique values are 1\n",
            "Column name country and unique values are 1\n",
            "Column name latitude and unique values are 22552\n",
            "Column name longitude and unique values are 22552\n",
            "Column name is_location_exact and unique values are 2\n",
            "Column name property_type and unique values are 33\n",
            "Column name room_type and unique values are 3\n",
            "Column name accommodates and unique values are 16\n",
            "Column name bathrooms and unique values are 17\n",
            "Column name bedrooms and unique values are 13\n",
            "Column name beds and unique values are 19\n",
            "Column name bed_type and unique values are 5\n",
            "Column name amenities and unique values are 19985\n",
            "Column name square_feet and unique values are 112\n",
            "Column name price and unique values are 295\n",
            "Column name weekly_price and unique values are 388\n",
            "Column name monthly_price and unique values are 427\n",
            "Column name security_deposit and unique values are 143\n",
            "Column name cleaning_fee and unique values are 113\n",
            "Column name guests_included and unique values are 15\n",
            "Column name extra_people and unique values are 65\n",
            "Column name minimum_nights and unique values are 102\n",
            "Column name maximum_nights and unique values are 222\n",
            "Column name calendar_updated and unique values are 75\n",
            "Column name has_availability and unique values are 1\n",
            "Column name availability_30 and unique values are 31\n",
            "Column name availability_60 and unique values are 61\n",
            "Column name availability_90 and unique values are 91\n",
            "Column name availability_365 and unique values are 366\n",
            "Column name calendar_last_scraped and unique values are 2\n",
            "Column name number_of_reviews and unique values are 306\n",
            "Column name first_review and unique values are 2229\n",
            "Column name last_review and unique values are 1313\n",
            "Column name review_scores_rating and unique values are 47\n",
            "Column name review_scores_accuracy and unique values are 10\n",
            "Column name review_scores_cleanliness and unique values are 10\n",
            "Column name review_scores_checkin and unique values are 9\n",
            "Column name review_scores_communication and unique values are 10\n",
            "Column name review_scores_location and unique values are 9\n",
            "Column name review_scores_value and unique values are 10\n",
            "Column name requires_license and unique values are 2\n",
            "Column name license and unique values are 1388\n",
            "Column name jurisdiction_names and unique values are 1\n",
            "Column name instant_bookable and unique values are 2\n",
            "Column name is_business_travel_ready and unique values are 1\n",
            "Column name cancellation_policy and unique values are 5\n",
            "Column name require_guest_profile_picture and unique values are 2\n",
            "Column name require_guest_phone_verification and unique values are 2\n",
            "Column name calculated_host_listings_count and unique values are 23\n",
            "Column name reviews_per_month and unique values are 769\n"
          ],
          "name": "stdout"
        }
      ]
    },
    {
      "cell_type": "code",
      "metadata": {
        "id": "nuqFQlAjeK2C",
        "colab_type": "code",
        "colab": {}
      },
      "source": [
        "#List of all catagories we're using to predict \n",
        "df2 = df_listings_summary[['minimum_nights','street','maximum_nights','cleaning_fee','property_type','extra_people','zipcode',\n",
        "                          'room_type','bed_type','review_scores_value', 'instant_bookable','host_has_profile_pic', 'requires_license','price']]"
      ],
      "execution_count": null,
      "outputs": []
    },
    {
      "cell_type": "code",
      "metadata": {
        "id": "TzpeKQ9zgKZW",
        "colab_type": "code",
        "colab": {}
      },
      "source": [
        "#catagorical features for model\n",
        "catagorical_features = df_listings_summary[['room_type','bed_type','review_scores_value', 'instant_bookable','host_has_profile_pic', 'requires_license','price']]"
      ],
      "execution_count": null,
      "outputs": []
    },
    {
      "cell_type": "code",
      "metadata": {
        "id": "YNgsIKsOlU3z",
        "colab_type": "code",
        "colab": {}
      },
      "source": [
        "#continueous features\n",
        "df = df_listings_summary[['minimum_nights','street','maximum_nights','cleaning_fee','property_type','extra_people','zipcode']]"
      ],
      "execution_count": null,
      "outputs": []
    },
    {
      "cell_type": "markdown",
      "metadata": {
        "id": "5dOMkRFHY0qb",
        "colab_type": "text"
      },
      "source": [
        "What do the graphs have to say about the catagories?"
      ]
    },
    {
      "cell_type": "code",
      "metadata": {
        "id": "VI-QywChjp6j",
        "colab_type": "code",
        "colab": {
          "base_uri": "https://localhost:8080/",
          "height": 1000
        },
        "outputId": "cc3ff113-dc75-4514-f923-0150715d410a"
      },
      "source": [
        "for Categorical_Values in catagorical_features.columns:\n",
        "    cat_num = catagorical_features[Categorical_Values].value_counts()\n",
        "    print('graph for %s: total = %d' % (Categorical_Values, len(cat_num)))\n",
        "    chart = sns.barplot(x=cat_num.index, y=cat_num)\n",
        "    chart.set_xticklabels(chart.get_xticklabels(), rotation=90)\n",
        "    plt.show()"
      ],
      "execution_count": null,
      "outputs": [
        {
          "output_type": "stream",
          "text": [
            "graph for room_type: total = 3\n"
          ],
          "name": "stdout"
        },
        {
          "output_type": "display_data",
          "data": {
            "image/png": "[encoded data removed]",
            "text/plain": [
              "<Figure size 432x288 with 1 Axes>"
            ]
          },
          "metadata": {
            "tags": [],
            "needs_background": "light"
          }
        },
        {
          "output_type": "stream",
          "text": [
            "graph for bed_type: total = 5\n"
          ],
          "name": "stdout"
        },
        {
          "output_type": "display_data",
          "data": {
            "image/png": "[encoded data removed]",
            "text/plain": [
              "<Figure size 432x288 with 1 Axes>"
            ]
          },
          "metadata": {
            "tags": [],
            "needs_background": "light"
          }
        },
        {
          "output_type": "stream",
          "text": [
            "graph for review_scores_value: total = 9\n"
          ],
          "name": "stdout"
        },
        {
          "output_type": "display_data",
          "data": {
            "image/png": "[encoded data removed]",
            "text/plain": [
              "<Figure size 432x288 with 1 Axes>"
            ]
          },
          "metadata": {
            "tags": [],
            "needs_background": "light"
          }
        },
        {
          "output_type": "stream",
          "text": [
            "graph for instant_bookable: total = 2\n"
          ],
          "name": "stdout"
        },
        {
          "output_type": "display_data",
          "data": {
            "image/png": "[encoded data removed]",
            "text/plain": [
              "<Figure size 432x288 with 1 Axes>"
            ]
          },
          "metadata": {
            "tags": [],
            "needs_background": "light"
          }
        },
        {
          "output_type": "stream",
          "text": [
            "graph for host_has_profile_pic: total = 2\n"
          ],
          "name": "stdout"
        },
        {
          "output_type": "display_data",
          "data": {
            "image/png": "[encoded data removed]",
            "text/plain": [
              "<Figure size 432x288 with 1 Axes>"
            ]
          },
          "metadata": {
            "tags": [],
            "needs_background": "light"
          }
        },
        {
          "output_type": "stream",
          "text": [
            "graph for requires_license: total = 2\n"
          ],
          "name": "stdout"
        },
        {
          "output_type": "display_data",
          "data": {
            "image/png": "[encoded data removed]",
            "text/plain": [
              "<Figure size 432x288 with 1 Axes>"
            ]
          },
          "metadata": {
            "tags": [],
            "needs_background": "light"
          }
        },
        {
          "output_type": "stream",
          "text": [
            "graph for price: total = 295\n"
          ],
          "name": "stdout"
        },
        {
          "output_type": "display_data",
          "data": {
            "image/png": "[encoded data removed]",
            "text/plain": [
              "<Figure size 432x288 with 1 Axes>"
            ]
          },
          "metadata": {
            "tags": [],
            "needs_background": "light"
          }
        }
      ]
    },
    {
      "cell_type": "markdown",
      "metadata": {
        "id": "8ccK0pKckfok",
        "colab_type": "text"
      },
      "source": [
        "## Based on our analysis we can conclude that:\n",
        "\n",
        "\n",
        "*   Apparments are the predominant property type \n",
        "*   Supper hosts make up the minority of property renters\n",
        "*   Mosts review range from 8 stars to 10\n",
        "*   Most propertys are not instant bookable\n",
        "*   Most people have just listen 1 house while some own 2 and 3 \n",
        "*   Most listed propertys are not instant bookable\n",
        "*   1 bedroom houses were among the most common \n",
        "\n"
      ]
    },
    {
      "cell_type": "markdown",
      "metadata": {
        "id": "CGQeFFn9ZemK",
        "colab_type": "text"
      },
      "source": [
        "What's the maxiumum/minimum cost per night?"
      ]
    },
    {
      "cell_type": "code",
      "metadata": {
        "id": "cB7Zkg6hZUy_",
        "colab_type": "code",
        "colab": {
          "base_uri": "https://localhost:8080/"
        },
        "outputId": "b233a4b8-6aa3-40ef-f04e-a8c125db3e1e"
      },
      "source": [
        "catagorical_features['price'].max()"
      ],
      "execution_count": null,
      "outputs": [
        {
          "output_type": "execute_result",
          "data": {
            "application/vnd.google.colaboratory.intrinsic+json": {
              "type": "string"
            },
            "text/plain": [
              "'$999.00'"
            ]
          },
          "metadata": {
            "tags": []
          },
          "execution_count": 14
        }
      ]
    },
    {
      "cell_type": "code",
      "metadata": {
        "id": "ERdBu4ukZw4X",
        "colab_type": "code",
        "colab": {
          "base_uri": "https://localhost:8080/"
        },
        "outputId": "0c4a6c95-ba94-4ecf-f9c0-b9cb6bdf3506"
      },
      "source": [
        "catagorical_features['price'].min()"
      ],
      "execution_count": null,
      "outputs": [
        {
          "output_type": "execute_result",
          "data": {
            "application/vnd.google.colaboratory.intrinsic+json": {
              "type": "string"
            },
            "text/plain": [
              "'$0.00'"
            ]
          },
          "metadata": {
            "tags": []
          },
          "execution_count": 15
        }
      ]
    },
    {
      "cell_type": "markdown",
      "metadata": {
        "id": "52KqHQydZ2ZE",
        "colab_type": "text"
      },
      "source": [
        "correlation between features:"
      ]
    },
    {
      "cell_type": "code",
      "metadata": {
        "id": "7j4vxBRYrCJY",
        "colab_type": "code",
        "colab": {
          "base_uri": "https://localhost:8080/"
        },
        "outputId": "36017f45-baa2-4307-c30f-7c44a65e1a59"
      },
      "source": [
        "catagorical_features.head(1)"
      ],
      "execution_count": null,
      "outputs": [
        {
          "output_type": "execute_result",
          "data": {
            "text/html": [
              "<div>\n",
              "<style scoped>\n",
              "    .dataframe tbody tr th:only-of-type {\n",
              "        vertical-align: middle;\n",
              "    }\n",
              "\n",
              "    .dataframe tbody tr th {\n",
              "        vertical-align: top;\n",
              "    }\n",
              "\n",
              "    .dataframe thead th {\n",
              "        text-align: right;\n",
              "    }\n",
              "</style>\n",
              "<table border=\"1\" class=\"dataframe\">\n",
              "  <thead>\n",
              "    <tr style=\"text-align: right;\">\n",
              "      <th></th>\n",
              "      <th>room_type</th>\n",
              "      <th>bed_type</th>\n",
              "      <th>review_scores_value</th>\n",
              "      <th>instant_bookable</th>\n",
              "      <th>host_has_profile_pic</th>\n",
              "      <th>requires_license</th>\n",
              "      <th>price</th>\n",
              "    </tr>\n",
              "  </thead>\n",
              "  <tbody>\n",
              "    <tr>\n",
              "      <th>0</th>\n",
              "      <td>Entire home/apt</td>\n",
              "      <td>Real Bed</td>\n",
              "      <td>9.0</td>\n",
              "      <td>f</td>\n",
              "      <td>t</td>\n",
              "      <td>t</td>\n",
              "      <td>$60.00</td>\n",
              "    </tr>\n",
              "  </tbody>\n",
              "</table>\n",
              "</div>"
            ],
            "text/plain": [
              "         room_type  bed_type  ...  requires_license   price\n",
              "0  Entire home/apt  Real Bed  ...                 t  $60.00\n",
              "\n",
              "[1 rows x 7 columns]"
            ]
          },
          "metadata": {
            "tags": []
          },
          "execution_count": 16
        }
      ]
    },
    {
      "cell_type": "markdown",
      "metadata": {
        "id": "MFtWQO8XaSvk",
        "colab_type": "text"
      },
      "source": [
        "# Cleaning Data: "
      ]
    },
    {
      "cell_type": "code",
      "metadata": {
        "id": "fXSWthpVwj3w",
        "colab_type": "code",
        "colab": {}
      },
      "source": [
        "catagorical_features['price'] = catagorical_features['price'].apply(lambda x: float(x.replace(',','').replace('$',''))) #Removing symbolls"
      ],
      "execution_count": null,
      "outputs": []
    },
    {
      "cell_type": "markdown",
      "metadata": {
        "id": "a0wmYto9afMO",
        "colab_type": "text"
      },
      "source": [
        "Numberical representation of data types"
      ]
    },
    {
      "cell_type": "code",
      "metadata": {
        "id": "EWuuPmZxXcam",
        "colab_type": "code",
        "colab": {}
      },
      "source": [
        "catagorical_features['room_type'] = catagorical_features['room_type'].apply(lambda x: (x.replace('Entire home/apt','1').replace('Private room','2').replace('Shared room','3')))\n",
        "catagorical_features['room_type'] = catagorical_features['room_type'].astype(int) "
      ],
      "execution_count": null,
      "outputs": []
    },
    {
      "cell_type": "code",
      "metadata": {
        "id": "E7usJmrCYCQb",
        "colab_type": "code",
        "colab": {}
      },
      "source": [
        "catagorical_features['bed_type'] = catagorical_features['bed_type'].apply(lambda x: (x.replace('Real Bed','1').replace('Pull-out Sofa','2').replace('Futon','3')).replace('Airbed','4'))\n",
        "catagorical_features['bed_type'] = catagorical_features['room_type'].astype(int)"
      ],
      "execution_count": null,
      "outputs": []
    },
    {
      "cell_type": "code",
      "metadata": {
        "id": "fKTJ82K3nVn3",
        "colab_type": "code",
        "colab": {}
      },
      "source": [
        "catagorical_features['instant_bookable'] = catagorical_features.host_has_profile_pic.map(dict(t=1, f=0))\n",
        "catagorical_features['host_has_profile_pic'] = catagorical_features.host_has_profile_pic.map(dict(t=1, f=0))\n",
        "catagorical_features['requires_license'] = catagorical_features.requires_license.map(dict(t=1, f=0))"
      ],
      "execution_count": null,
      "outputs": []
    },
    {
      "cell_type": "code",
      "metadata": {
        "id": "P_7yEQ9bcR-n",
        "colab_type": "code",
        "colab": {
          "base_uri": "https://localhost:8080/"
        },
        "outputId": "16de8e0c-3741-4c76-ad65-9494d27c847c"
      },
      "source": [
        "catagorical_features.head(1)"
      ],
      "execution_count": null,
      "outputs": [
        {
          "output_type": "execute_result",
          "data": {
            "text/html": [
              "<div>\n",
              "<style scoped>\n",
              "    .dataframe tbody tr th:only-of-type {\n",
              "        vertical-align: middle;\n",
              "    }\n",
              "\n",
              "    .dataframe tbody tr th {\n",
              "        vertical-align: top;\n",
              "    }\n",
              "\n",
              "    .dataframe thead th {\n",
              "        text-align: right;\n",
              "    }\n",
              "</style>\n",
              "<table border=\"1\" class=\"dataframe\">\n",
              "  <thead>\n",
              "    <tr style=\"text-align: right;\">\n",
              "      <th></th>\n",
              "      <th>room_type</th>\n",
              "      <th>bed_type</th>\n",
              "      <th>review_scores_value</th>\n",
              "      <th>instant_bookable</th>\n",
              "      <th>host_has_profile_pic</th>\n",
              "      <th>requires_license</th>\n",
              "      <th>price</th>\n",
              "    </tr>\n",
              "  </thead>\n",
              "  <tbody>\n",
              "    <tr>\n",
              "      <th>0</th>\n",
              "      <td>1</td>\n",
              "      <td>1</td>\n",
              "      <td>9.0</td>\n",
              "      <td>1.0</td>\n",
              "      <td>1.0</td>\n",
              "      <td>1</td>\n",
              "      <td>60.0</td>\n",
              "    </tr>\n",
              "  </tbody>\n",
              "</table>\n",
              "</div>"
            ],
            "text/plain": [
              "   room_type  bed_type  ...  requires_license  price\n",
              "0          1         1  ...                 1   60.0\n",
              "\n",
              "[1 rows x 7 columns]"
            ]
          },
          "metadata": {
            "tags": []
          },
          "execution_count": 21
        }
      ]
    },
    {
      "cell_type": "markdown",
      "metadata": {
        "id": "D9onpWogasq7",
        "colab_type": "text"
      },
      "source": [
        "# Prepocessing our data:"
      ]
    },
    {
      "cell_type": "code",
      "metadata": {
        "id": "AAArj8H6btLo",
        "colab_type": "code",
        "colab": {}
      },
      "source": [
        "from sklearn.preprocessing import LabelEncoder, OneHotEncoder"
      ],
      "execution_count": null,
      "outputs": []
    },
    {
      "cell_type": "code",
      "metadata": {
        "id": "hqA6_4o2ySRS",
        "colab_type": "code",
        "colab": {}
      },
      "source": [
        "cat_features=['room_type','bed_type','review_scores_value', 'instant_bookable','host_has_profile_pic', 'requires_license','price']\n",
        "out_feature=\"price\""
      ],
      "execution_count": null,
      "outputs": []
    },
    {
      "cell_type": "code",
      "metadata": {
        "id": "nFeUo45Y2gMb",
        "colab_type": "code",
        "colab": {}
      },
      "source": [
        "from sklearn.preprocessing import LabelEncoder\n",
        "lbl_encoders={}\n",
        "for feature in cat_features:\n",
        "    lbl_encoders[feature]=LabelEncoder()\n",
        "    catagorical_features[feature]=lbl_encoders[feature].fit_transform(catagorical_features[feature])"
      ],
      "execution_count": null,
      "outputs": []
    },
    {
      "cell_type": "code",
      "metadata": {
        "id": "JG9JnFXRmTaD",
        "colab_type": "code",
        "colab": {
          "base_uri": "https://localhost:8080/"
        },
        "outputId": "12249cf0-0aa3-421a-ff9e-66c0860e360f"
      },
      "source": [
        "z, ax = plt.subplots(figsize=(20, 11))\n",
        "sns.heatmap(catagorical_features.corr(), center=0,\n",
        "            square=True, cmap=\"twilight\", linewidths=1, cbar_kws={\"shrink\": 1})"
      ],
      "execution_count": null,
      "outputs": [
        {
          "output_type": "execute_result",
          "data": {
            "text/plain": [
              "<matplotlib.axes._subplots.AxesSubplot at 0x7f575180e160>"
            ]
          },
          "metadata": {
            "tags": []
          },
          "execution_count": 25
        },
        {
          "output_type": "display_data",
          "data": {
            "image/png": "[encoded data removed]",
            "text/plain": [
              "<Figure size 1440x792 with 2 Axes>"
            ]
          },
          "metadata": {
            "tags": [],
            "needs_background": "light"
          }
        }
      ]
    },
    {
      "cell_type": "markdown",
      "metadata": {
        "id": "8GZ5Mp5DbAm-",
        "colab_type": "text"
      },
      "source": [
        "Creating numpy array from our catagorical features:\n"
      ]
    },
    {
      "cell_type": "code",
      "metadata": {
        "id": "8wa-b4xEsIKD",
        "colab_type": "code",
        "colab": {}
      },
      "source": [
        "cat_features = np.stack([catagorical_features['room_type'], catagorical_features['bed_type'],catagorical_features['review_scores_value'],\n",
        "                          catagorical_features['instant_bookable'],catagorical_features['host_has_profile_pic'],catagorical_features['requires_license']],1)"
      ],
      "execution_count": null,
      "outputs": []
    },
    {
      "cell_type": "code",
      "metadata": {
        "id": "5mYsSbKjmKI5",
        "colab_type": "code",
        "colab": {
          "base_uri": "https://localhost:8080/"
        },
        "outputId": "790155d2-7c65-4864-a4f2-a9c14384968b"
      },
      "source": [
        "cat_features"
      ],
      "execution_count": null,
      "outputs": [
        {
          "output_type": "execute_result",
          "data": {
            "text/plain": [
              "array([[   0,    0,    7,    1,    1,    1],\n",
              "       [   1,    1,    8,    1,    1,    1],\n",
              "       [   0,    0,    7,    1,    1,    1],\n",
              "       ...,\n",
              "       [   0,    0,  134,    1,    1,    1],\n",
              "       [   1,    1, 1649,    1,    1,    1],\n",
              "       [   1,    1, 4443,    1,    1,    1]])"
            ]
          },
          "metadata": {
            "tags": []
          },
          "execution_count": 27
        }
      ]
    },
    {
      "cell_type": "markdown",
      "metadata": {
        "id": "2s8LkMGlbHBI",
        "colab_type": "text"
      },
      "source": [
        "Converting Catagory features into tensors: "
      ]
    },
    {
      "cell_type": "code",
      "metadata": {
        "id": "LHW-kWDLsIRi",
        "colab_type": "code",
        "colab": {
          "base_uri": "https://localhost:8080/"
        },
        "outputId": "84b83464-1178-4845-d0d1-15813b43bc8d"
      },
      "source": [
        "import torch\n",
        "cat_features=torch.tensor(cat_features,dtype=torch.int64)\n",
        "cat_features"
      ],
      "execution_count": null,
      "outputs": [
        {
          "output_type": "execute_result",
          "data": {
            "text/plain": [
              "tensor([[   0,    0,    7,    1,    1,    1],\n",
              "        [   1,    1,    8,    1,    1,    1],\n",
              "        [   0,    0,    7,    1,    1,    1],\n",
              "        ...,\n",
              "        [   0,    0,  134,    1,    1,    1],\n",
              "        [   1,    1, 1649,    1,    1,    1],\n",
              "        [   1,    1, 4443,    1,    1,    1]])"
            ]
          },
          "metadata": {
            "tags": []
          },
          "execution_count": 28
        }
      ]
    },
    {
      "cell_type": "markdown",
      "metadata": {
        "id": "tzk0anXXbqJa",
        "colab_type": "text"
      },
      "source": [
        "Create continuous variable:"
      ]
    },
    {
      "cell_type": "code",
      "metadata": {
        "id": "GLwjz_YwsINw",
        "colab_type": "code",
        "colab": {}
      },
      "source": [
        "cont_features=[]\n",
        "for i in df2.columns:\n",
        "    if i in ['minimum_nights','street','maximum_nights','cleaning_fee','property_type','extra_people','zipcode']:\n",
        "        pass\n",
        "    else:\n",
        "        cont_features.append(i)"
      ],
      "execution_count": null,
      "outputs": []
    },
    {
      "cell_type": "code",
      "metadata": {
        "id": "Hy9EBaCDbG2q",
        "colab_type": "code",
        "colab": {
          "base_uri": "https://localhost:8080/"
        },
        "outputId": "5e68f955-0b91-42cc-d477-bb366ee6ca62"
      },
      "source": [
        "cont_features"
      ],
      "execution_count": null,
      "outputs": [
        {
          "output_type": "execute_result",
          "data": {
            "text/plain": [
              "['room_type',\n",
              " 'bed_type',\n",
              " 'review_scores_value',\n",
              " 'instant_bookable',\n",
              " 'host_has_profile_pic',\n",
              " 'requires_license',\n",
              " 'price']"
            ]
          },
          "metadata": {
            "tags": []
          },
          "execution_count": 30
        }
      ]
    },
    {
      "cell_type": "markdown",
      "metadata": {
        "id": "FqZKYh1zgS5j",
        "colab_type": "text"
      },
      "source": [
        "\n",
        "Stacking continuous variable to a tensor:"
      ]
    },
    {
      "cell_type": "code",
      "metadata": {
        "id": "YweXvc_csIH8",
        "colab_type": "code",
        "colab": {
          "base_uri": "https://localhost:8080/"
        },
        "outputId": "9890fd98-c8a7-44fc-8543-49aac9848282"
      },
      "source": [
        "cont_values=np.stack([catagorical_features[i].values for i in cont_features],axis=1)\n",
        "cont_values=torch.tensor(cont_values,dtype=torch.float)\n",
        "cont_values"
      ],
      "execution_count": null,
      "outputs": [
        {
          "output_type": "execute_result",
          "data": {
            "text/plain": [
              "tensor([[0.0000e+00, 0.0000e+00, 7.0000e+00,  ..., 1.0000e+00, 1.0000e+00,\n",
              "         5.4000e+01],\n",
              "        [1.0000e+00, 1.0000e+00, 8.0000e+00,  ..., 1.0000e+00, 1.0000e+00,\n",
              "         1.1000e+01],\n",
              "        [0.0000e+00, 0.0000e+00, 7.0000e+00,  ..., 1.0000e+00, 1.0000e+00,\n",
              "         8.4000e+01],\n",
              "        ...,\n",
              "        [0.0000e+00, 0.0000e+00, 1.3400e+02,  ..., 1.0000e+00, 1.0000e+00,\n",
              "         7.9000e+01],\n",
              "        [1.0000e+00, 1.0000e+00, 1.6490e+03,  ..., 1.0000e+00, 1.0000e+00,\n",
              "         9.3000e+01],\n",
              "        [1.0000e+00, 1.0000e+00, 4.4430e+03,  ..., 1.0000e+00, 1.0000e+00,\n",
              "         3.9000e+01]])"
            ]
          },
          "metadata": {
            "tags": []
          },
          "execution_count": 31
        }
      ]
    },
    {
      "cell_type": "markdown",
      "metadata": {
        "id": "T0m55S2dgaqF",
        "colab_type": "text"
      },
      "source": [
        "\n",
        "Dependent Feature:"
      ]
    },
    {
      "cell_type": "code",
      "metadata": {
        "id": "cS-Z2UqrsIFb",
        "colab_type": "code",
        "colab": {
          "base_uri": "https://localhost:8080/"
        },
        "outputId": "bedc15e0-3cb6-46a7-f640-5270694db82c"
      },
      "source": [
        "y=torch.tensor(catagorical_features['price'].values,dtype=torch.float).reshape(-1,1)\n",
        "y"
      ],
      "execution_count": null,
      "outputs": [
        {
          "output_type": "execute_result",
          "data": {
            "text/plain": [
              "tensor([[54.],\n",
              "        [11.],\n",
              "        [84.],\n",
              "        ...,\n",
              "        [79.],\n",
              "        [93.],\n",
              "        [39.]])"
            ]
          },
          "metadata": {
            "tags": []
          },
          "execution_count": 32
        }
      ]
    },
    {
      "cell_type": "code",
      "metadata": {
        "id": "WJM2-VUFQhfH",
        "colab_type": "code",
        "colab": {
          "base_uri": "https://localhost:8080/"
        },
        "outputId": "d5a6b5ec-541c-43af-f851-3cf467f0688b"
      },
      "source": [
        "catagorical_features.shape"
      ],
      "execution_count": null,
      "outputs": [
        {
          "output_type": "execute_result",
          "data": {
            "text/plain": [
              "(22552, 7)"
            ]
          },
          "metadata": {
            "tags": []
          },
          "execution_count": 33
        }
      ]
    },
    {
      "cell_type": "code",
      "metadata": {
        "id": "iqTZqCE3sIDE",
        "colab_type": "code",
        "colab": {
          "base_uri": "https://localhost:8080/"
        },
        "outputId": "c05cb6de-b4ad-4369-a05c-9ba9cfbfe6c9"
      },
      "source": [
        "cat_features.shape,cont_values.shape,y.shape"
      ],
      "execution_count": null,
      "outputs": [
        {
          "output_type": "execute_result",
          "data": {
            "text/plain": [
              "(torch.Size([22552, 6]), torch.Size([22552, 7]), torch.Size([22552, 1]))"
            ]
          },
          "metadata": {
            "tags": []
          },
          "execution_count": 34
        }
      ]
    },
    {
      "cell_type": "markdown",
      "metadata": {
        "id": "BH1XQs4ygjzt",
        "colab_type": "text"
      },
      "source": [
        "Embedding Size For Categorical columns:"
      ]
    },
    {
      "cell_type": "code",
      "metadata": {
        "id": "lr67IirnsIA1",
        "colab_type": "code",
        "colab": {}
      },
      "source": [
        "cat_dims = [len(catagorical_features[col].unique()) for col in ['room_type','bed_type','review_scores_value', 'instant_bookable','host_has_profile_pic', 'requires_license']]"
      ],
      "execution_count": null,
      "outputs": []
    },
    {
      "cell_type": "code",
      "metadata": {
        "id": "EVmlKbCssH-m",
        "colab_type": "code",
        "colab": {
          "base_uri": "https://localhost:8080/"
        },
        "outputId": "bc09fd94-a31c-484b-8493-d693dfed7f46"
      },
      "source": [
        "cat_dims"
      ],
      "execution_count": null,
      "outputs": [
        {
          "output_type": "execute_result",
          "data": {
            "text/plain": [
              "[3, 3, 4444, 28, 28, 2]"
            ]
          },
          "metadata": {
            "tags": []
          },
          "execution_count": 36
        }
      ]
    },
    {
      "cell_type": "markdown",
      "metadata": {
        "id": "KasIuj7fgtYy",
        "colab_type": "text"
      },
      "source": [
        "embedding dimentions:"
      ]
    },
    {
      "cell_type": "code",
      "metadata": {
        "id": "M54kR3M4sH73",
        "colab_type": "code",
        "colab": {}
      },
      "source": [
        "embedding_dim = [(x, min(50, (x + 1) // 2)) for x in cat_dims]"
      ],
      "execution_count": null,
      "outputs": []
    },
    {
      "cell_type": "code",
      "metadata": {
        "id": "wQmoNKKlsH5L",
        "colab_type": "code",
        "colab": {
          "base_uri": "https://localhost:8080/"
        },
        "outputId": "ac4ba7f9-055d-4224-fe45-a045b72632d0"
      },
      "source": [
        "embedding_dim"
      ],
      "execution_count": null,
      "outputs": [
        {
          "output_type": "execute_result",
          "data": {
            "text/plain": [
              "[(3, 2), (3, 2), (4444, 50), (28, 14), (28, 14), (2, 1)]"
            ]
          },
          "metadata": {
            "tags": []
          },
          "execution_count": 38
        }
      ]
    },
    {
      "cell_type": "markdown",
      "metadata": {
        "id": "5cmTywC_hI0q",
        "colab_type": "text"
      },
      "source": [
        "# Model Building: "
      ]
    },
    {
      "cell_type": "code",
      "metadata": {
        "id": "CvqHmMO5sH2-",
        "colab_type": "code",
        "colab": {}
      },
      "source": [
        "import torch\n",
        "import torch.nn as nn\n",
        "import torch.nn.functional as F"
      ],
      "execution_count": null,
      "outputs": []
    },
    {
      "cell_type": "markdown",
      "metadata": {
        "id": "EO2uuVPzhTUN",
        "colab_type": "text"
      },
      "source": [
        "embed representation:"
      ]
    },
    {
      "cell_type": "code",
      "metadata": {
        "id": "nJesYvom1qg5",
        "colab_type": "code",
        "colab": {
          "base_uri": "https://localhost:8080/"
        },
        "outputId": "943bdc9e-52aa-4bcc-ca55-41ff44896ae1"
      },
      "source": [
        "embed_representation=nn.ModuleList([nn.Embedding(inp,out) for inp,out in embedding_dim])\n",
        "embed_representation"
      ],
      "execution_count": null,
      "outputs": [
        {
          "output_type": "execute_result",
          "data": {
            "text/plain": [
              "ModuleList(\n",
              "  (0): Embedding(3, 2)\n",
              "  (1): Embedding(3, 2)\n",
              "  (2): Embedding(4444, 50)\n",
              "  (3): Embedding(28, 14)\n",
              "  (4): Embedding(28, 14)\n",
              "  (5): Embedding(2, 1)\n",
              ")"
            ]
          },
          "metadata": {
            "tags": []
          },
          "execution_count": 40
        }
      ]
    },
    {
      "cell_type": "code",
      "metadata": {
        "id": "CMmunxLO5fPK",
        "colab_type": "code",
        "colab": {
          "base_uri": "https://localhost:8080/"
        },
        "outputId": "6e81f2a2-6424-4a24-bc9b-a77943aedbbf"
      },
      "source": [
        "cat_featuresz=cat_features[:6]\n",
        "cat_featuresz"
      ],
      "execution_count": null,
      "outputs": [
        {
          "output_type": "execute_result",
          "data": {
            "text/plain": [
              "tensor([[0, 0, 7, 1, 1, 1],\n",
              "        [1, 1, 8, 1, 1, 1],\n",
              "        [0, 0, 7, 1, 1, 1],\n",
              "        [1, 1, 7, 1, 1, 1],\n",
              "        [1, 1, 7, 1, 1, 1],\n",
              "        [0, 0, 8, 1, 1, 1]])"
            ]
          },
          "metadata": {
            "tags": []
          },
          "execution_count": 41
        }
      ]
    },
    {
      "cell_type": "markdown",
      "metadata": {
        "id": "K2rvuruPuice",
        "colab_type": "text"
      },
      "source": [
        "Creating embeded values:"
      ]
    },
    {
      "cell_type": "code",
      "metadata": {
        "id": "X361sFyO1qu_",
        "colab_type": "code",
        "colab": {}
      },
      "source": [
        "pd.set_option('display.max_rows', 500)\n",
        "embedding_val=[]\n",
        "for i,e in enumerate(embed_representation):\n",
        "    embedding_val.append(e(cat_features[:,i]))"
      ],
      "execution_count": null,
      "outputs": []
    },
    {
      "cell_type": "code",
      "metadata": {
        "id": "akSAYLq11qpi",
        "colab_type": "code",
        "colab": {
          "base_uri": "https://localhost:8080/"
        },
        "outputId": "1f8da430-315d-4c32-cf92-96754ec75803"
      },
      "source": [
        "embedding_val"
      ],
      "execution_count": null,
      "outputs": [
        {
          "output_type": "execute_result",
          "data": {
            "text/plain": [
              "[tensor([[-0.6985, -0.5557],\n",
              "         [ 0.8808,  0.3307],\n",
              "         [-0.6985, -0.5557],\n",
              "         ...,\n",
              "         [-0.6985, -0.5557],\n",
              "         [ 0.8808,  0.3307],\n",
              "         [ 0.8808,  0.3307]], grad_fn=<EmbeddingBackward>),\n",
              " tensor([[-1.8274,  0.7150],\n",
              "         [ 0.2041,  0.3016],\n",
              "         [-1.8274,  0.7150],\n",
              "         ...,\n",
              "         [-1.8274,  0.7150],\n",
              "         [ 0.2041,  0.3016],\n",
              "         [ 0.2041,  0.3016]], grad_fn=<EmbeddingBackward>),\n",
              " tensor([[ 1.6168,  1.5095,  1.8879,  ..., -0.3814, -0.9409,  0.2399],\n",
              "         [-0.1924,  0.3498,  0.5688,  ...,  0.5731,  0.3540, -1.3223],\n",
              "         [ 1.6168,  1.5095,  1.8879,  ..., -0.3814, -0.9409,  0.2399],\n",
              "         ...,\n",
              "         [ 0.8984, -0.0084, -1.1449,  ...,  0.5796,  1.0455,  1.4294],\n",
              "         [-0.5849,  0.4228,  0.2763,  ..., -1.4110, -0.7522, -1.2970],\n",
              "         [ 0.0162,  0.3744,  0.1670,  ...,  0.5395, -1.1781, -0.8542]],\n",
              "        grad_fn=<EmbeddingBackward>),\n",
              " tensor([[ 0.0929,  0.6269, -0.5760,  ..., -1.2819, -0.2743,  1.2044],\n",
              "         [ 0.0929,  0.6269, -0.5760,  ..., -1.2819, -0.2743,  1.2044],\n",
              "         [ 0.0929,  0.6269, -0.5760,  ..., -1.2819, -0.2743,  1.2044],\n",
              "         ...,\n",
              "         [ 0.0929,  0.6269, -0.5760,  ..., -1.2819, -0.2743,  1.2044],\n",
              "         [ 0.0929,  0.6269, -0.5760,  ..., -1.2819, -0.2743,  1.2044],\n",
              "         [ 0.0929,  0.6269, -0.5760,  ..., -1.2819, -0.2743,  1.2044]],\n",
              "        grad_fn=<EmbeddingBackward>),\n",
              " tensor([[-1.3952, -1.5203, -0.3734,  ..., -0.0833,  0.3227,  0.2668],\n",
              "         [-1.3952, -1.5203, -0.3734,  ..., -0.0833,  0.3227,  0.2668],\n",
              "         [-1.3952, -1.5203, -0.3734,  ..., -0.0833,  0.3227,  0.2668],\n",
              "         ...,\n",
              "         [-1.3952, -1.5203, -0.3734,  ..., -0.0833,  0.3227,  0.2668],\n",
              "         [-1.3952, -1.5203, -0.3734,  ..., -0.0833,  0.3227,  0.2668],\n",
              "         [-1.3952, -1.5203, -0.3734,  ..., -0.0833,  0.3227,  0.2668]],\n",
              "        grad_fn=<EmbeddingBackward>),\n",
              " tensor([[-0.1429],\n",
              "         [-0.1429],\n",
              "         [-0.1429],\n",
              "         ...,\n",
              "         [-0.1429],\n",
              "         [-0.1429],\n",
              "         [-0.1429]], grad_fn=<EmbeddingBackward>)]"
            ]
          },
          "metadata": {
            "tags": []
          },
          "execution_count": 43
        }
      ]
    },
    {
      "cell_type": "code",
      "metadata": {
        "id": "cZ-jEt_Z1qdD",
        "colab_type": "code",
        "colab": {
          "base_uri": "https://localhost:8080/"
        },
        "outputId": "3b5edf92-bff8-4a9a-b107-314eb0313c5a"
      },
      "source": [
        "z = torch.cat(embedding_val, 1)\n",
        "z"
      ],
      "execution_count": null,
      "outputs": [
        {
          "output_type": "execute_result",
          "data": {
            "text/plain": [
              "tensor([[-0.6985, -0.5557, -1.8274,  ...,  0.3227,  0.2668, -0.1429],\n",
              "        [ 0.8808,  0.3307,  0.2041,  ...,  0.3227,  0.2668, -0.1429],\n",
              "        [-0.6985, -0.5557, -1.8274,  ...,  0.3227,  0.2668, -0.1429],\n",
              "        ...,\n",
              "        [-0.6985, -0.5557, -1.8274,  ...,  0.3227,  0.2668, -0.1429],\n",
              "        [ 0.8808,  0.3307,  0.2041,  ...,  0.3227,  0.2668, -0.1429],\n",
              "        [ 0.8808,  0.3307,  0.2041,  ...,  0.3227,  0.2668, -0.1429]],\n",
              "       grad_fn=<CatBackward>)"
            ]
          },
          "metadata": {
            "tags": []
          },
          "execution_count": 44
        }
      ]
    },
    {
      "cell_type": "markdown",
      "metadata": {
        "id": "U2VIReilhp_X",
        "colab_type": "text"
      },
      "source": [
        "Implement dropupout:"
      ]
    },
    {
      "cell_type": "code",
      "metadata": {
        "id": "9_kqi9m51qYv",
        "colab_type": "code",
        "colab": {}
      },
      "source": [
        "droput=nn.Dropout(.4)"
      ],
      "execution_count": null,
      "outputs": []
    },
    {
      "cell_type": "code",
      "metadata": {
        "id": "aEgv674C1qUI",
        "colab_type": "code",
        "colab": {
          "base_uri": "https://localhost:8080/"
        },
        "outputId": "27dd966e-f423-4c5a-ee28-2b2861c2467f"
      },
      "source": [
        "final_embed=droput(z)\n",
        "final_embed"
      ],
      "execution_count": null,
      "outputs": [
        {
          "output_type": "execute_result",
          "data": {
            "text/plain": [
              "tensor([[-0.0000, -0.0000, -0.0000,  ...,  0.0000,  0.4446, -0.2382],\n",
              "        [ 1.4680,  0.5512,  0.0000,  ...,  0.5378,  0.4446, -0.2382],\n",
              "        [-1.1641, -0.0000, -0.0000,  ...,  0.5378,  0.0000, -0.2382],\n",
              "        ...,\n",
              "        [-1.1641, -0.9261, -3.0456,  ...,  0.5378,  0.4446, -0.2382],\n",
              "        [ 1.4680,  0.5512,  0.0000,  ...,  0.5378,  0.4446, -0.2382],\n",
              "        [ 0.0000,  0.0000,  0.0000,  ...,  0.5378,  0.4446, -0.2382]],\n",
              "       grad_fn=<MulBackward0>)"
            ]
          },
          "metadata": {
            "tags": []
          },
          "execution_count": 46
        }
      ]
    },
    {
      "cell_type": "markdown",
      "metadata": {
        "id": "ivm7u-e0hvat",
        "colab_type": "text"
      },
      "source": [
        "# Create a Feed Forward Neural Network:"
      ]
    },
    {
      "cell_type": "code",
      "metadata": {
        "id": "8MocZSGvsH0g",
        "colab_type": "code",
        "colab": {}
      },
      "source": [
        "import torch\n",
        "import torch.nn as nn\n",
        "import torch.nn.functional as F\n",
        "class FeedForwardNN(nn.Module):\n",
        "\n",
        "    def __init__(self, embedding_dim, n_cont, out_sz, layers, p=0.5):\n",
        "        super().__init__()\n",
        "        self.embeds = nn.ModuleList([nn.Embedding(inp,out) for inp,out in embedding_dim])\n",
        "        self.emb_drop = nn.Dropout(p)\n",
        "        self.bn_cont = nn.BatchNorm1d(n_cont)\n",
        "        \n",
        "        layerlist = []\n",
        "        n_emb = sum((out for inp,out in embedding_dim))\n",
        "        n_in = n_emb + n_cont\n",
        "        \n",
        "        for i in layers:\n",
        "            layerlist.append(nn.Linear(n_in,i)) \n",
        "            layerlist.append(nn.ReLU(inplace=True))\n",
        "            layerlist.append(nn.BatchNorm1d(i))\n",
        "            layerlist.append(nn.Dropout(p))\n",
        "            n_in = i\n",
        "        layerlist.append(nn.Linear(layers[-1],out_sz))\n",
        "            \n",
        "        self.layers = nn.Sequential(*layerlist)\n",
        "    \n",
        "    def forward(self, x_cat, x_cont):\n",
        "        embeddings = []\n",
        "        for i,e in enumerate(self.embeds):\n",
        "            embeddings.append(e(x_cat[:,i]))\n",
        "        x = torch.cat(embeddings, 1)\n",
        "        x = self.emb_drop(x)\n",
        "        \n",
        "        x_cont = self.bn_cont(x_cont)\n",
        "        x = torch.cat([x, x_cont], 1)\n",
        "        x = self.layers(x)\n",
        "        return x"
      ],
      "execution_count": null,
      "outputs": []
    },
    {
      "cell_type": "code",
      "metadata": {
        "id": "rfMU5ZIwofdZ",
        "colab_type": "code",
        "colab": {}
      },
      "source": [
        "torch.manual_seed(100)\n",
        "model=FeedForwardNN(embedding_dim,len(cont_features),1,[100,50],p=0.4)"
      ],
      "execution_count": null,
      "outputs": []
    },
    {
      "cell_type": "code",
      "metadata": {
        "id": "T_zJ2ONpofYd",
        "colab_type": "code",
        "colab": {}
      },
      "source": [
        "loss_function=nn.MSELoss()\n",
        "optimizer=torch.optim.Adam(model.parameters(),lr=0.001)"
      ],
      "execution_count": null,
      "outputs": []
    },
    {
      "cell_type": "markdown",
      "metadata": {
        "id": "gzTDSJ_Hj2EP",
        "colab_type": "text"
      },
      "source": [
        "Creating test and train set:"
      ]
    },
    {
      "cell_type": "code",
      "metadata": {
        "id": "LjsdgeBQofTT",
        "colab_type": "code",
        "colab": {}
      },
      "source": [
        "batch_size=22550\n",
        "test_size=int(batch_size*0.30)\n",
        "train_categorical=cat_features[:batch_size-test_size]\n",
        "test_categorical=cat_features[batch_size-test_size:batch_size]\n",
        "train_cont=cont_values[:batch_size-test_size]\n",
        "test_cont=cont_values[batch_size-test_size:batch_size]\n",
        "y_train=y[:batch_size-test_size]\n",
        "y_test=y[batch_size-test_size:batch_size]"
      ],
      "execution_count": null,
      "outputs": []
    },
    {
      "cell_type": "markdown",
      "metadata": {
        "id": "FtupGTjLgOvl",
        "colab_type": "text"
      },
      "source": [
        "Size of our train / test data:"
      ]
    },
    {
      "cell_type": "code",
      "metadata": {
        "id": "d5KkVgEDofOZ",
        "colab_type": "code",
        "colab": {
          "base_uri": "https://localhost:8080/",
          "height": 34
        },
        "outputId": "caa2cae6-3cc5-4cc7-feab-2f5eac236910"
      },
      "source": [
        "len(train_categorical),len(test_categorical),len(train_cont),len(test_cont),len(y_train),len(y_test)"
      ],
      "execution_count": null,
      "outputs": [
        {
          "output_type": "execute_result",
          "data": {
            "text/plain": [
              "(15785, 6765, 15785, 6765, 15785, 6765)"
            ]
          },
          "metadata": {
            "tags": []
          },
          "execution_count": 51
        }
      ]
    },
    {
      "cell_type": "code",
      "metadata": {
        "id": "2A4zDzt-otS8",
        "colab_type": "code",
        "colab": {
          "base_uri": "https://localhost:8080/",
          "height": 1000
        },
        "outputId": "1e268a57-57d9-4ebb-a6db-e13ed645b40a"
      },
      "source": [
        "epochs=950\n",
        "final_losses=[]\n",
        "for i in range(epochs):\n",
        "    i=i+1\n",
        "    y_pred=model(train_categorical,train_cont)\n",
        "    loss=torch.sqrt(loss_function(y_pred,y_train)) ### RMSE\n",
        "    final_losses.append(loss)\n",
        "    if i%10==1:\n",
        "        print(\"Epoch number: {} and the loss : {}\".format(i,loss.item()))\n",
        "    optimizer.zero_grad()\n",
        "    loss.backward()\n",
        "    optimizer.step()"
      ],
      "execution_count": null,
      "outputs": [
        {
          "output_type": "stream",
          "text": [
            "Epoch number: 1 and the loss : 63.51482391357422\n",
            "Epoch number: 11 and the loss : 63.02560806274414\n",
            "Epoch number: 21 and the loss : 62.43962860107422\n",
            "Epoch number: 31 and the loss : 61.869998931884766\n",
            "Epoch number: 41 and the loss : 61.29853057861328\n",
            "Epoch number: 51 and the loss : 60.719024658203125\n",
            "Epoch number: 61 and the loss : 60.103485107421875\n",
            "Epoch number: 71 and the loss : 59.51629638671875\n",
            "Epoch number: 81 and the loss : 58.90555953979492\n",
            "Epoch number: 91 and the loss : 58.26404571533203\n",
            "Epoch number: 101 and the loss : 57.7086296081543\n",
            "Epoch number: 111 and the loss : 57.0576057434082\n",
            "Epoch number: 121 and the loss : 56.458744049072266\n",
            "Epoch number: 131 and the loss : 55.79574203491211\n",
            "Epoch number: 141 and the loss : 55.04395294189453\n",
            "Epoch number: 151 and the loss : 54.28525924682617\n",
            "Epoch number: 161 and the loss : 53.57961654663086\n",
            "Epoch number: 171 and the loss : 52.755374908447266\n",
            "Epoch number: 181 and the loss : 52.033287048339844\n",
            "Epoch number: 191 and the loss : 51.249664306640625\n",
            "Epoch number: 201 and the loss : 50.55517578125\n",
            "Epoch number: 211 and the loss : 49.695823669433594\n",
            "Epoch number: 221 and the loss : 48.95170211791992\n",
            "Epoch number: 231 and the loss : 48.096858978271484\n",
            "Epoch number: 241 and the loss : 47.35850524902344\n",
            "Epoch number: 251 and the loss : 46.483699798583984\n",
            "Epoch number: 261 and the loss : 45.6871452331543\n",
            "Epoch number: 271 and the loss : 44.95264434814453\n",
            "Epoch number: 281 and the loss : 44.03299331665039\n",
            "Epoch number: 291 and the loss : 43.36334991455078\n",
            "Epoch number: 301 and the loss : 42.57518768310547\n",
            "Epoch number: 311 and the loss : 41.749305725097656\n",
            "Epoch number: 321 and the loss : 41.08096694946289\n",
            "Epoch number: 331 and the loss : 40.23377990722656\n",
            "Epoch number: 341 and the loss : 39.49805450439453\n",
            "Epoch number: 351 and the loss : 38.79248046875\n",
            "Epoch number: 361 and the loss : 38.086570739746094\n",
            "Epoch number: 371 and the loss : 37.30778503417969\n",
            "Epoch number: 381 and the loss : 36.67060852050781\n",
            "Epoch number: 391 and the loss : 36.09622573852539\n",
            "Epoch number: 401 and the loss : 35.348934173583984\n",
            "Epoch number: 411 and the loss : 34.65066909790039\n",
            "Epoch number: 421 and the loss : 33.86892318725586\n",
            "Epoch number: 431 and the loss : 33.17255783081055\n",
            "Epoch number: 441 and the loss : 32.43650817871094\n",
            "Epoch number: 451 and the loss : 31.70431137084961\n",
            "Epoch number: 461 and the loss : 30.958723068237305\n",
            "Epoch number: 471 and the loss : 30.219682693481445\n",
            "Epoch number: 481 and the loss : 29.39004898071289\n",
            "Epoch number: 491 and the loss : 28.61215591430664\n",
            "Epoch number: 501 and the loss : 27.796672821044922\n",
            "Epoch number: 511 and the loss : 26.913204193115234\n",
            "Epoch number: 521 and the loss : 26.07082748413086\n",
            "Epoch number: 531 and the loss : 25.213712692260742\n",
            "Epoch number: 541 and the loss : 24.39508056640625\n",
            "Epoch number: 551 and the loss : 23.38850212097168\n",
            "Epoch number: 561 and the loss : 22.5440731048584\n",
            "Epoch number: 571 and the loss : 21.755062103271484\n",
            "Epoch number: 581 and the loss : 20.755258560180664\n",
            "Epoch number: 591 and the loss : 19.982275009155273\n",
            "Epoch number: 601 and the loss : 19.125154495239258\n",
            "Epoch number: 611 and the loss : 18.172473907470703\n",
            "Epoch number: 621 and the loss : 17.319538116455078\n",
            "Epoch number: 631 and the loss : 16.14900016784668\n",
            "Epoch number: 641 and the loss : 15.462437629699707\n",
            "Epoch number: 651 and the loss : 14.801617622375488\n",
            "Epoch number: 661 and the loss : 13.996829986572266\n",
            "Epoch number: 671 and the loss : 13.131864547729492\n",
            "Epoch number: 681 and the loss : 12.683679580688477\n",
            "Epoch number: 691 and the loss : 12.015053749084473\n",
            "Epoch number: 701 and the loss : 11.36623477935791\n",
            "Epoch number: 711 and the loss : 10.882253646850586\n",
            "Epoch number: 721 and the loss : 10.338863372802734\n",
            "Epoch number: 731 and the loss : 10.261799812316895\n",
            "Epoch number: 741 and the loss : 9.971480369567871\n",
            "Epoch number: 751 and the loss : 10.00473690032959\n",
            "Epoch number: 761 and the loss : 9.586465835571289\n",
            "Epoch number: 771 and the loss : 9.4132661819458\n",
            "Epoch number: 781 and the loss : 9.498666763305664\n",
            "Epoch number: 791 and the loss : 9.301011085510254\n",
            "Epoch number: 801 and the loss : 9.346996307373047\n",
            "Epoch number: 811 and the loss : 9.271285057067871\n",
            "Epoch number: 821 and the loss : 9.033731460571289\n",
            "Epoch number: 831 and the loss : 9.205818176269531\n",
            "Epoch number: 841 and the loss : 9.002635955810547\n",
            "Epoch number: 851 and the loss : 8.821794509887695\n",
            "Epoch number: 861 and the loss : 8.916200637817383\n",
            "Epoch number: 871 and the loss : 8.904333114624023\n",
            "Epoch number: 881 and the loss : 8.905925750732422\n",
            "Epoch number: 891 and the loss : 9.004844665527344\n",
            "Epoch number: 901 and the loss : 9.037858009338379\n",
            "Epoch number: 911 and the loss : 8.813447952270508\n",
            "Epoch number: 921 and the loss : 8.6366548538208\n",
            "Epoch number: 931 and the loss : 8.866171836853027\n",
            "Epoch number: 941 and the loss : 8.468140602111816\n"
          ],
          "name": "stdout"
        }
      ]
    },
    {
      "cell_type": "code",
      "metadata": {
        "id": "MTmn80wOotNR",
        "colab_type": "code",
        "colab": {
          "base_uri": "https://localhost:8080/",
          "height": 279
        },
        "outputId": "356049d5-3ed8-4aa8-e6ed-905fd7ee2070"
      },
      "source": [
        "plt.plot(range(epochs), final_losses)\n",
        "plt.ylabel('RMSE Loss')\n",
        "plt.xlabel('epoch');"
      ],
      "execution_count": null,
      "outputs": [
        {
          "output_type": "display_data",
          "data": {
            "image/png": "[encoded data removed]",
            "text/plain": [
              "<Figure size 432x288 with 1 Axes>"
            ]
          },
          "metadata": {
            "tags": [],
            "needs_background": "light"
          }
        }
      ]
    },
    {
      "cell_type": "markdown",
      "metadata": {
        "id": "w79cupbdh7gg",
        "colab_type": "text"
      },
      "source": [
        "Validating the Test Data:"
      ]
    },
    {
      "cell_type": "code",
      "metadata": {
        "id": "JcvlQNtgotHX",
        "colab_type": "code",
        "colab": {
          "base_uri": "https://localhost:8080/",
          "height": 34
        },
        "outputId": "28db91e3-6107-4f3a-9d26-de35b8d21dfd"
      },
      "source": [
        "y_pred=\"\"\n",
        "with torch.no_grad():\n",
        "    y_pred=model(test_categorical,test_cont)\n",
        "    loss=torch.sqrt(loss_function(y_pred,y_test))\n",
        "print('RMSE: {}'.format(loss))"
      ],
      "execution_count": null,
      "outputs": [
        {
          "output_type": "stream",
          "text": [
            "RMSE: 11.671492576599121\n"
          ],
          "name": "stdout"
        }
      ]
    },
    {
      "cell_type": "code",
      "metadata": {
        "id": "HyuJ2lU_otBi",
        "colab_type": "code",
        "colab": {}
      },
      "source": [
        "data_verify=pd.DataFrame(y_test.tolist(),columns=[\"Test\"])"
      ],
      "execution_count": null,
      "outputs": []
    },
    {
      "cell_type": "code",
      "metadata": {
        "id": "-klLc8PbofI_",
        "colab_type": "code",
        "colab": {}
      },
      "source": [
        "data_predicted=pd.DataFrame(y_pred.tolist(),columns=[\"Prediction\"])"
      ],
      "execution_count": null,
      "outputs": []
    },
    {
      "cell_type": "code",
      "metadata": {
        "id": "Vb2wW3edr-GD",
        "colab_type": "code",
        "colab": {
          "base_uri": "https://localhost:8080/",
          "height": 408
        },
        "outputId": "5ebc5730-e492-4ba9-c2b2-6997fb83e4cb"
      },
      "source": [
        "model.eval()"
      ],
      "execution_count": null,
      "outputs": [
        {
          "output_type": "execute_result",
          "data": {
            "text/plain": [
              "FeedForwardNN(\n",
              "  (embeds): ModuleList(\n",
              "    (0): Embedding(3, 2)\n",
              "    (1): Embedding(3, 2)\n",
              "    (2): Embedding(4444, 50)\n",
              "    (3): Embedding(28, 14)\n",
              "    (4): Embedding(28, 14)\n",
              "    (5): Embedding(2, 1)\n",
              "  )\n",
              "  (emb_drop): Dropout(p=0.4, inplace=False)\n",
              "  (bn_cont): BatchNorm1d(7, eps=1e-05, momentum=0.1, affine=True, track_running_stats=True)\n",
              "  (layers): Sequential(\n",
              "    (0): Linear(in_features=90, out_features=100, bias=True)\n",
              "    (1): ReLU(inplace=True)\n",
              "    (2): BatchNorm1d(100, eps=1e-05, momentum=0.1, affine=True, track_running_stats=True)\n",
              "    (3): Dropout(p=0.4, inplace=False)\n",
              "    (4): Linear(in_features=100, out_features=50, bias=True)\n",
              "    (5): ReLU(inplace=True)\n",
              "    (6): BatchNorm1d(50, eps=1e-05, momentum=0.1, affine=True, track_running_stats=True)\n",
              "    (7): Dropout(p=0.4, inplace=False)\n",
              "    (8): Linear(in_features=50, out_features=1, bias=True)\n",
              "  )\n",
              ")"
            ]
          },
          "metadata": {
            "tags": []
          },
          "execution_count": 57
        }
      ]
    },
    {
      "cell_type": "markdown",
      "metadata": {
        "id": "BbQOdjYIis23",
        "colab_type": "text"
      },
      "source": [
        "Prediction VS Actual:"
      ]
    },
    {
      "cell_type": "code",
      "metadata": {
        "id": "UyR5lnw0pIsT",
        "colab_type": "code",
        "colab": {
          "base_uri": "https://localhost:8080/",
          "height": 204
        },
        "outputId": "e9a3c9a7-65d5-4ce7-94f5-64ac5c443c7a"
      },
      "source": [
        "final_output=pd.concat([data_verify,data_predicted],axis=1)\n",
        "final_output['Difference']=final_output['Test']-final_output['Prediction']\n",
        "final_output.head()"
      ],
      "execution_count": null,
      "outputs": [
        {
          "output_type": "execute_result",
          "data": {
            "text/html": [
              "<div>\n",
              "<style scoped>\n",
              "    .dataframe tbody tr th:only-of-type {\n",
              "        vertical-align: middle;\n",
              "    }\n",
              "\n",
              "    .dataframe tbody tr th {\n",
              "        vertical-align: top;\n",
              "    }\n",
              "\n",
              "    .dataframe thead th {\n",
              "        text-align: right;\n",
              "    }\n",
              "</style>\n",
              "<table border=\"1\" class=\"dataframe\">\n",
              "  <thead>\n",
              "    <tr style=\"text-align: right;\">\n",
              "      <th></th>\n",
              "      <th>Test</th>\n",
              "      <th>Prediction</th>\n",
              "      <th>Difference</th>\n",
              "    </tr>\n",
              "  </thead>\n",
              "  <tbody>\n",
              "    <tr>\n",
              "      <th>0</th>\n",
              "      <td>34.0</td>\n",
              "      <td>27.611403</td>\n",
              "      <td>6.388597</td>\n",
              "    </tr>\n",
              "    <tr>\n",
              "      <th>1</th>\n",
              "      <td>34.0</td>\n",
              "      <td>34.376282</td>\n",
              "      <td>-0.376282</td>\n",
              "    </tr>\n",
              "    <tr>\n",
              "      <th>2</th>\n",
              "      <td>14.0</td>\n",
              "      <td>11.158849</td>\n",
              "      <td>2.841151</td>\n",
              "    </tr>\n",
              "    <tr>\n",
              "      <th>3</th>\n",
              "      <td>39.0</td>\n",
              "      <td>35.164410</td>\n",
              "      <td>3.835590</td>\n",
              "    </tr>\n",
              "    <tr>\n",
              "      <th>4</th>\n",
              "      <td>74.0</td>\n",
              "      <td>76.735863</td>\n",
              "      <td>-2.735863</td>\n",
              "    </tr>\n",
              "  </tbody>\n",
              "</table>\n",
              "</div>"
            ],
            "text/plain": [
              "   Test  Prediction  Difference\n",
              "0  34.0   27.611403    6.388597\n",
              "1  34.0   34.376282   -0.376282\n",
              "2  14.0   11.158849    2.841151\n",
              "3  39.0   35.164410    3.835590\n",
              "4  74.0   76.735863   -2.735863"
            ]
          },
          "metadata": {
            "tags": []
          },
          "execution_count": 58
        }
      ]
    },
    {
      "cell_type": "markdown",
      "metadata": {
        "id": "0UltEqCki6tI",
        "colab_type": "text"
      },
      "source": [
        "# On average our model was off by:"
      ]
    },
    {
      "cell_type": "code",
      "metadata": {
        "id": "-oDemmuB47GZ",
        "colab_type": "code",
        "colab": {
          "base_uri": "https://localhost:8080/",
          "height": 34
        },
        "outputId": "ce77be3b-7389-4b82-e980-bde7ed8900ff"
      },
      "source": [
        "final_output['Difference'].mean()"
      ],
      "execution_count": null,
      "outputs": [
        {
          "output_type": "execute_result",
          "data": {
            "text/plain": [
              "3.744384959293839"
            ]
          },
          "metadata": {
            "tags": []
          },
          "execution_count": 62
        }
      ]
    },
    {
      "cell_type": "markdown",
      "metadata": {
        "id": "yf9eNheei-oW",
        "colab_type": "text"
      },
      "source": [
        "\n",
        "# Saving the model"
      ]
    },
    {
      "cell_type": "code",
      "metadata": {
        "id": "jbFLzwWMpIlZ",
        "colab_type": "code",
        "colab": {}
      },
      "source": [
        "torch.save(model,'Kaggle_House_data.pt')"
      ],
      "execution_count": null,
      "outputs": []
    },
    {
      "cell_type": "code",
      "metadata": {
        "id": "MWhBk5yYpIes",
        "colab_type": "code",
        "colab": {}
      },
      "source": [
        "torch.save(model.state_dict(),'Kaggle_House_data.pt')"
      ],
      "execution_count": null,
      "outputs": []
    }
  ]
}